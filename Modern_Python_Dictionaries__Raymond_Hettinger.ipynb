{
 "cells": [
  {
   "cell_type": "markdown",
   "metadata": {},
   "source": [
    "# Raymond Hettinger Modern Python Dictionaries\n",
    "\n",
    "##### PyCon 2017 5/20/17"
   ]
  },
  {
   "cell_type": "code",
   "execution_count": null,
   "metadata": {
    "collapsed": true
   },
   "outputs": [],
   "source": []
  },
  {
   "cell_type": "code",
   "execution_count": 4,
   "metadata": {
    "collapsed": true
   },
   "outputs": [],
   "source": [
    "from __future__ import division, print_function\n",
    "from pprint import pprint\n",
    "import sys"
   ]
  },
  {
   "cell_type": "code",
   "execution_count": 20,
   "metadata": {},
   "outputs": [
    {
     "name": "stdout",
     "output_type": "stream",
     "text": [
      "{'barry': 'green',\n",
      " 'guido': 'blue',\n",
      " 'rachel': 'yellow',\n",
      " 'sarah': 'orange',\n",
      " 'tim': 'red'}\n",
      "\n",
      "\n",
      "{'barry': 'tucson',\n",
      " 'guido': 'austin',\n",
      " 'rachel': 'reno',\n",
      " 'sarah': 'dallas',\n",
      " 'tim': 'portland'}\n",
      "\n",
      "\n",
      "{'barry': 'orange',\n",
      " 'guido': 'apple',\n",
      " 'rachel': 'pear',\n",
      " 'sarah': 'banana',\n",
      " 'tim': 'peach'}\n",
      "\n",
      "\n",
      "[112, 112, 112]\n"
     ]
    }
   ],
   "source": [
    "class UserProperty:\n",
    "    def __init__(self, v0,v1,v2,v3,v4):\n",
    "        self.guido = v0\n",
    "        self.sarah = v1\n",
    "        self.barry = v2\n",
    "        self.rachel = v3\n",
    "        self.tim = v4\n",
    "        \n",
    "    def resize(self, n):\n",
    "        new_buckets = [[] for i in range(n)]\n",
    "        for hashvalue, key, value in self.buckets:\n",
    "            bucket = new_bucket[hashvalue % n]\n",
    "            bucket.append((hashvalue, key, value))\n",
    "    \n",
    "    \n",
    "    \"\"\" \n",
    "    First version of this method\n",
    "    def resize(self, n):\n",
    "        items = self.items()                   # save kvps\n",
    "        self.buckets = [[] for i in range(n)]  # new bigger\n",
    "        for key, value in items:               # re-insert \n",
    "            self[key] = value\n",
    "    \"\"\"\n",
    "    \n",
    "    def __repr__(self):\n",
    "        return 'UserProperty(%r, %r, %r, %r, %r)' \\\n",
    "            % (self.guido, self.sarah, self.barry, self.rachel, self.tim)\n",
    "        \n",
    "colors = UserProperty('blue', 'orange', 'green', 'yellow', 'red')\n",
    "cities = UserProperty('austin', 'dallas', 'tucson', 'reno', 'portland')\n",
    "fruits = UserProperty('apple', 'banana', 'orange', 'pear', 'peach')\n",
    "\n",
    "for user in [colors, cities, fruits]:\n",
    "    pprint(vars(user))\n",
    "    print('\\n')\n",
    "    \n",
    "pprint(list(map(sys.getsizeof, map(vars, [colors, cities, fruits]))))"
   ]
  },
  {
   "cell_type": "markdown",
   "metadata": {},
   "source": [
    "### Setup Sample Data"
   ]
  },
  {
   "cell_type": "code",
   "execution_count": 22,
   "metadata": {},
   "outputs": [
    {
     "name": "stdout",
     "output_type": "stream",
     "text": [
      "['guido', 'sarah', 'barry', 'rachel', 'tim']\n",
      "\n",
      "\n",
      "['blue', 'orange', 'green', 'yellow', 'red']\n",
      "['austin', 'dallas', 'tucson', 'reno', 'portland']\n",
      "['apple', 'banana', 'orange', 'pear', 'peach']\n",
      "\n",
      "\n",
      "[384764767018553469,\n",
      " 9040703136467122224,\n",
      " 4448128744150476456,\n",
      " 2469529081330093605,\n",
      " 1241924159426322209]\n",
      "\n",
      "\n",
      "[(384764767018553469, 'guido', 'blue'),\n",
      " (9040703136467122224, 'sarah', 'orange'),\n",
      " (4448128744150476456, 'barry', 'green'),\n",
      " (2469529081330093605, 'rachel', 'yellow'),\n",
      " (1241924159426322209, 'tim', 'red')]\n",
      "\n",
      "List of Tuples\n",
      "[(384764767018553469, 'guido', 'blue', 'austin', 'apple'),\n",
      " (9040703136467122224, 'sarah', 'orange', 'dallas', 'banana'),\n",
      " (4448128744150476456, 'barry', 'green', 'tucson', 'orange'),\n",
      " (2469529081330093605, 'rachel', 'yellow', 'reno', 'pear'),\n",
      " (1241924159426322209, 'tim', 'red', 'portland', 'peach')]\n"
     ]
    }
   ],
   "source": [
    "from __future__ import division, print_function\n",
    "from pprint import pprint\n",
    "\n",
    "keys = 'guido sarah barry rachel tim'.split()\n",
    "values1 = ['blue', 'orange', 'green', 'yellow', 'red']\n",
    "values2 = ['austin', 'dallas', 'tucson', 'reno', 'portland']\n",
    "values3 = ['apple', 'banana', 'orange', 'pear', 'peach']\n",
    "\n",
    "hashes = list(map(abs, map(hash, keys)))\n",
    "entries = list(zip(hashes, keys, values1))\n",
    "comb_entries = list(zip(hashes, keys, values1, values2, values3))\n",
    "\n",
    "pprint(keys)\n",
    "print('\\n')\n",
    "pprint(values1)\n",
    "pprint(values2)\n",
    "pprint(values3)\n",
    "print('\\n')\n",
    "pprint(hashes)\n",
    "print('\\n')\n",
    "pprint(entries)\n",
    "print('\\nList of Tuples')\n",
    "pprint(comb_entries)"
   ]
  },
  {
   "cell_type": "markdown",
   "metadata": {},
   "source": [
    "Hashing is reducing the size of the search space, by breaking it up into seperate structures (buckets).\n",
    "\n",
    "Breaking it up into 8 buckets is best, sparsity brings faster lookup, but wasted space.\n",
    "\n",
    "The dictionary slows down as it gets bigger. Solution is periodically resize the dictionary (see resize() function, 1st version, on class above) so it is never more than 2/3 full.\n",
    "\n",
    "\n",
    "**Innovation Not Usually Shown in TextBooks**\n",
    "\n",
    "Make even faster by caching the hash keys in the dictionary! Otherwise when re-inserting the hash would have to be calculated again. The solution is to save the full hash value as a first new field on each value so it can be used during resizing!\n",
    "\n",
    "See new resize method on the class!"
   ]
  },
  {
   "cell_type": "code",
   "execution_count": null,
   "metadata": {
    "collapsed": true
   },
   "outputs": [],
   "source": []
  },
  {
   "cell_type": "code",
   "execution_count": null,
   "metadata": {
    "collapsed": true
   },
   "outputs": [],
   "source": []
  }
 ],
 "metadata": {
  "kernelspec": {
   "display_name": "Python 3",
   "language": "python",
   "name": "python3"
  },
  "language_info": {
   "codemirror_mode": {
    "name": "ipython",
    "version": 3
   },
   "file_extension": ".py",
   "mimetype": "text/x-python",
   "name": "python",
   "nbconvert_exporter": "python",
   "pygments_lexer": "ipython3",
   "version": "3.6.1"
  }
 },
 "nbformat": 4,
 "nbformat_minor": 2
}
