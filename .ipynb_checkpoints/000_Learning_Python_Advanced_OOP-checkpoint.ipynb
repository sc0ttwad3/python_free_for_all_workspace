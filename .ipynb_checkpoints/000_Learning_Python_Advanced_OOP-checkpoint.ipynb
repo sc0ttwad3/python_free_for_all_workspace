{
 "cells": [
  {
   "cell_type": "markdown",
   "metadata": {},
   "source": [
    "# Advanced Object Oriented Programming Concepts\n",
    "\n",
    "Some fundamentals and advanced features of OOP useful for real applications"
   ]
  },
  {
   "cell_type": "markdown",
   "metadata": {
    "collapsed": true
   },
   "source": [
    "## Decorators\n",
    "\n",
    "In order to have behavior/logic in "
   ]
  },
  {
   "cell_type": "code",
   "execution_count": 20,
   "metadata": {},
   "outputs": [
    {
     "name": "stdout",
     "output_type": "stream",
     "text": [
      "f took: 0.2000291347503662\n",
      "f took: 0.30004024505615234\n",
      "1 loop, best of 3: 500 ms per loop\n"
     ]
    }
   ],
   "source": [
    "from time import sleep, time\n",
    "\n",
    "def f(sleep_time=0.1):\n",
    "    sleep(sleep_time)\n",
    "    \n",
    "def g():\n",
    "    sleep(.5)\n",
    "    \n",
    "# def measure(fn):\n",
    "#    t = time()\n",
    "#    fn()\n",
    "#    print(fn.__name__, 'took: ', time() - t)\n",
    "# measure(f)\n",
    "# measure(g)\n",
    "\n",
    "def measure(func):\n",
    "    def wrapper(*args, **kwargs):\n",
    "        t = time()\n",
    "        func(*args, **kwargs)\n",
    "        print(func.__name__, 'took:', time() - t)\n",
    "    return wrapper\n",
    "\n",
    "f = measure(f) # decoration point\n",
    "\n",
    "f(0.2)\n",
    "f(sleep_time=0.3)\n",
    "g()    # not decorated so nothing occurs\n",
    "%timeit g()"
   ]
  },
  {
   "cell_type": "markdown",
   "metadata": {},
   "source": [
    "## Decoration Technique\n",
    "\n",
    "We basically reassign f with whatever is returned by measure when we call it with f as an argument. Within measure, we define another function, wrapper, and then we return it. So, the net effect is that after the decoration point, when we call f, we're actually calling wrapper. Since the wrapper inside is calling func, which is f, we are actually closing the loop like that.\n",
    "\n",
    "```\n",
    "def func(arg1, arg2, ...):\n",
    "    pass\n",
    "func = decorator(func)\n",
    "# func = decorator-01(decoractor-02(func))\n",
    "```\n",
    "\n",
    "as a decorator with one argument function\n",
    "\n",
    "```\n",
    "@decorator01\n",
    "@decorator02\n",
    "def func(arg1, arg2, ...):\n",
    "    pass\n",
    "```\n",
    "\n",
    "Instead of manually reassigning the function to what was returned by the decorator, we prepend the definition of the function with the special syntax @decorator_name.\n",
    "\n",
    "See LEARNING_PYTHON pp.177-181"
   ]
  },
  {
   "cell_type": "markdown",
   "metadata": {},
   "source": [
    "## Object-Oriented Programming\n",
    "\n",
    "The two main players in OOP are objects and classes. Classes are used to create objects (objects are instances of the classes with which they were created), so we could see them as instance factories. When objects are created by a class, they inherit the class attributes and methods. They represent concrete items in the program's domain.\n",
    "\n",
    "### self\n",
    "\n",
    "From within a class method we can refer to an instance by means of a special argument, called **self** by convention. self is always the first attribute of an instance method.\n",
    "\n",
    "### Initializer\n",
    "\n",
    "Constructor in other languages. It is actually an initializer, since it works\n",
    "on an already created instance, and therefore it's called __init__. It's a magic method, which is run right after the object is created.\n",
    "\n",
    "### Static Propereties and Class Methods\n",
    "\n",
    "Use decorators:\n",
    "\n",
    "```\n",
    "@staticmethod\n",
    "\n",
    "@classmethod\n",
    "```\n",
    "\n",
    "As with instance method, which take **self** as the first argument, class method take a **cls** argument. Both self and cls are named after a convention.\n",
    "\n",
    "### Private Properties, Name Mangling, and Getter/Setters\n",
    "\n",
    "\n"
   ]
  },
  {
   "cell_type": "code",
   "execution_count": 12,
   "metadata": {},
   "outputs": [
    {
     "name": "stdout",
     "output_type": "stream",
     "text": [
      "<class 'type'>\n"
     ]
    }
   ],
   "source": [
    "# Simplest class\n",
    "\n",
    "class Simple():\n",
    "    pass\n",
    "\n",
    "print(type(Simple))\n",
    "simp = Simple() # create an instance"
   ]
  },
  {
   "cell_type": "code",
   "execution_count": 14,
   "metadata": {},
   "outputs": [
    {
     "name": "stdout",
     "output_type": "stream",
     "text": [
      "64\n",
      "100\n"
     ]
    }
   ],
   "source": [
    "class Square():\n",
    "    side = 8\n",
    "    \n",
    "    def area(self): # self is a reference to an instance\n",
    "        return self.side ** 2\n",
    "\n",
    "sq = Square()\n",
    "print(sq.area())\n",
    "\n",
    "sq.side = 10\n",
    "print(sq.area())"
   ]
  },
  {
   "cell_type": "code",
   "execution_count": 15,
   "metadata": {},
   "outputs": [
    {
     "name": "stdout",
     "output_type": "stream",
     "text": [
      "10 4\n",
      "40\n",
      "21\n"
     ]
    }
   ],
   "source": [
    "class Rectangle():\n",
    "    def __init__(self, sideA, sideB):\n",
    "        self.sideA = sideA\n",
    "        self.sideB = sideB\n",
    "\n",
    "    def area(self):\n",
    "        return self.sideA * self.sideB\n",
    "    \n",
    "r1 = Rectangle(10,4)\n",
    "print(r1.sideA, r1.sideB)\n",
    "print(r1.area())\n",
    "\n",
    "r2 = Rectangle(7, 3)\n",
    "print(r2.area())"
   ]
  },
  {
   "cell_type": "code",
   "execution_count": 16,
   "metadata": {
    "collapsed": true
   },
   "outputs": [],
   "source": [
    "class PersonPythonic:\n",
    "    def __init__(self, age):\n",
    "        self._age = age\n",
    "\n",
    "    @property\n",
    "    def age(self):\n",
    "        return self._age\n",
    "\n",
    "    @age.setter\n",
    "    def age(self, age):\n",
    "        if 18 <= age <= 99:\n",
    "            self._age = age\n",
    "        else:\n",
    "            raise ValueError('Age must be within [18, 99]')\n",
    "            \n",
    "person = PersonPythonic(39)"
   ]
  },
  {
   "cell_type": "code",
   "execution_count": 17,
   "metadata": {},
   "outputs": [
    {
     "name": "stdout",
     "output_type": "stream",
     "text": [
      "39\n"
     ]
    }
   ],
   "source": [
    "print(person.age)\n",
    "# print.age = 100 # gives ValueError "
   ]
  },
  {
   "cell_type": "markdown",
   "metadata": {},
   "source": [
    "### Encapsulation\n",
    "\n",
    "Identifiers in any context that begin with a SINGLE leading underline are intended to be only for \"internal\" use to a class or module and not part of public interface\n",
    "\n",
    "### Docstring\n",
    "\n",
    "First statement within body, module, class, function intended to be \"\"\" string literals and will be considered to be a docstring\n",
    "\n",
    "```\n",
    "def scale(data, factor):\n",
    "    \"\"\" Multiple all entries of numeric data list by given factor.\"\"\"\n",
    "```    \n"
   ]
  },
  {
   "cell_type": "code",
   "execution_count": null,
   "metadata": {
    "collapsed": true
   },
   "outputs": [],
   "source": [
    "# Shallow copy of an object\n",
    "# = just creates and alias\n",
    "#palette = list(warmtones)\n",
    "\n",
    "# Deep Copy\n",
    "#palette = copy.deepcopy(wartones)\n"
   ]
  }
 ],
 "metadata": {
  "kernelspec": {
   "display_name": "Python 3",
   "language": "python",
   "name": "python3"
  },
  "language_info": {
   "codemirror_mode": {
    "name": "ipython",
    "version": 3
   },
   "file_extension": ".py",
   "mimetype": "text/x-python",
   "name": "python",
   "nbconvert_exporter": "python",
   "pygments_lexer": "ipython3",
   "version": "3.6.1"
  }
 },
 "nbformat": 4,
 "nbformat_minor": 2
}
