{
 "cells": [
  {
   "cell_type": "markdown",
   "metadata": {},
   "source": [
    "# Python Debugging\n",
    "\n",
    "Some techniques to start with when debugging.\n",
    "\n",
    "* Profiling\n",
    "* Assertions\n",
    "* Unit Tests\n",
    "* Monitoring"
   ]
  },
  {
   "cell_type": "markdown",
   "metadata": {},
   "source": [
    "## Augemented Print/Console "
   ]
  },
  {
   "cell_type": "code",
   "execution_count": 10,
   "metadata": {},
   "outputs": [
    {
     "name": "stdout",
     "output_type": "stream",
     "text": [
      "Data is ...\n",
      "----------------------------------------\n",
      "Different Strings Are not a problem\n",
      "----------------------------------------\n",
      "After while loop\n"
     ]
    }
   ],
   "source": [
    "def debug(*msg, print_separator=True):\n",
    "    print(*msg)\n",
    "    if print_separator:\n",
    "        print('-' * 40)\n",
    "        \n",
    "debug('Data is ...')\n",
    "debug('Different', 'Strings', 'Are not a problem')\n",
    "debug('After while loop', print_separator=False)"
   ]
  },
  {
   "cell_type": "code",
   "execution_count": 3,
   "metadata": {},
   "outputs": [
    {
     "name": "stdout",
     "output_type": "stream",
     "text": [
      "Entering code to debug...\n",
      "First step complete.\n",
      " Time elapsed: 0.300s\n",
      "Second step complete.\n",
      " Time elapsed: 0.600s\n"
     ]
    }
   ],
   "source": [
    "# Calculations\n",
    "from time import sleep\n",
    "\n",
    "def debug(*msg, timestamp=[None]):\n",
    "    print(*msg)\n",
    "    from time import time # local import\n",
    "    if timestamp[0] is None:\n",
    "        timestamp[0] = time()\n",
    "    else:\n",
    "        now = time()\n",
    "        print(' Time elapsed: {:.3f}s'.format(now - timestamp[0]))\n",
    "        timestamp[0] = now\n",
    "        \n",
    "debug('Entering code to debug...')\n",
    "sleep(.3)\n",
    "debug('First step complete.')\n",
    "sleep(.6)\n",
    "debug('Second step complete.')"
   ]
  },
  {
   "cell_type": "code",
   "execution_count": null,
   "metadata": {
    "collapsed": true
   },
   "outputs": [],
   "source": []
  },
  {
   "cell_type": "markdown",
   "metadata": {},
   "source": [
    "Add a **\\__repr__()** method to a class so that it can be printed easily:\n",
    "\n",
    "```\n",
    "def __repr__(self):\n",
    "    return \"{class_}({bet}, {hand})\".format(\n",
    "        class_= self.__class__.__name__,\n",
    "        **vars(self)\n",
    "    )\n",
    "```"
   ]
  },
  {
   "cell_type": "markdown",
   "metadata": {},
   "source": [
    "## Traceback"
   ]
  },
  {
   "cell_type": "code",
   "execution_count": 4,
   "metadata": {},
   "outputs": [
    {
     "ename": "KeyError",
     "evalue": "'some-other'",
     "output_type": "error",
     "traceback": [
      "\u001b[1;31m---------------------------------------------------------------------------\u001b[0m",
      "\u001b[1;31mKeyError\u001b[0m                                  Traceback (most recent call last)",
      "\u001b[1;32m<ipython-input-4-0cc5cf9b87ed>\u001b[0m in \u001b[0;36m<module>\u001b[1;34m()\u001b[0m\n\u001b[0;32m      2\u001b[0m \u001b[0md\u001b[0m \u001b[1;33m=\u001b[0m \u001b[1;33m{\u001b[0m\u001b[1;34m'some'\u001b[0m\u001b[1;33m:\u001b[0m \u001b[1;34m'key'\u001b[0m\u001b[1;33m}\u001b[0m\u001b[1;33m\u001b[0m\u001b[0m\n\u001b[0;32m      3\u001b[0m \u001b[0mkey\u001b[0m \u001b[1;33m=\u001b[0m \u001b[1;34m'some-other'\u001b[0m\u001b[1;33m\u001b[0m\u001b[0m\n\u001b[1;32m----> 4\u001b[1;33m \u001b[0mprint\u001b[0m\u001b[1;33m(\u001b[0m\u001b[0md\u001b[0m\u001b[1;33m[\u001b[0m\u001b[0mkey\u001b[0m\u001b[1;33m]\u001b[0m\u001b[1;33m)\u001b[0m\u001b[1;33m\u001b[0m\u001b[0m\n\u001b[0m",
      "\u001b[1;31mKeyError\u001b[0m: 'some-other'"
     ]
    }
   ],
   "source": [
    "# Traceback related\n",
    "# There is also a module called traceback\n",
    "#\n",
    "d = {'some': 'key'}\n",
    "key = 'some-other'\n",
    "print(d[key]) # should error"
   ]
  },
  {
   "cell_type": "code",
   "execution_count": 6,
   "metadata": {},
   "outputs": [
    {
     "ename": "ValidatorError",
     "evalue": "`some-other` not found in d.",
     "output_type": "error",
     "traceback": [
      "\u001b[1;31m---------------------------------------------------------------------------\u001b[0m",
      "\u001b[1;31mKeyError\u001b[0m                                  Traceback (most recent call last)",
      "\u001b[1;32m<ipython-input-6-534f39fce5be>\u001b[0m in \u001b[0;36m<module>\u001b[1;34m()\u001b[0m\n\u001b[0;32m      8\u001b[0m \u001b[1;32mtry\u001b[0m\u001b[1;33m:\u001b[0m\u001b[1;33m\u001b[0m\u001b[0m\n\u001b[1;32m----> 9\u001b[1;33m     \u001b[0mprint\u001b[0m\u001b[1;33m(\u001b[0m\u001b[0md\u001b[0m\u001b[1;33m[\u001b[0m\u001b[0mmandatory_key\u001b[0m\u001b[1;33m]\u001b[0m\u001b[1;33m)\u001b[0m\u001b[1;33m\u001b[0m\u001b[0m\n\u001b[0m\u001b[0;32m     10\u001b[0m \u001b[1;32mexcept\u001b[0m \u001b[0mKeyError\u001b[0m\u001b[1;33m:\u001b[0m\u001b[1;33m\u001b[0m\u001b[0m\n",
      "\u001b[1;31mKeyError\u001b[0m: 'some-other'",
      "\nDuring handling of the above exception, another exception occurred:\n",
      "\u001b[1;31mValidatorError\u001b[0m                            Traceback (most recent call last)",
      "\u001b[1;32m<ipython-input-6-534f39fce5be>\u001b[0m in \u001b[0;36m<module>\u001b[1;34m()\u001b[0m\n\u001b[0;32m     10\u001b[0m \u001b[1;32mexcept\u001b[0m \u001b[0mKeyError\u001b[0m\u001b[1;33m:\u001b[0m\u001b[1;33m\u001b[0m\u001b[0m\n\u001b[0;32m     11\u001b[0m     raise ValidatorError(\n\u001b[1;32m---> 12\u001b[1;33m         '`{}` not found in d.'.format(mandatory_key))\n\u001b[0m\u001b[0;32m     13\u001b[0m \u001b[1;33m\u001b[0m\u001b[0m\n",
      "\u001b[1;31mValidatorError\u001b[0m: `some-other` not found in d."
     ]
    }
   ],
   "source": [
    "# should throw our ValidatorError\n",
    "#\n",
    "class ValidatorError(Exception):\n",
    "    \"\"\"Raised when accessing a dict results in KeyError. \"\"\"\n",
    "    \n",
    "d = {'some': 'key'}\n",
    "mandatory_key = 'some-other'\n",
    "try:\n",
    "    print(d[mandatory_key])\n",
    "except KeyError:\n",
    "    raise ValidatorError(\n",
    "        '`{}` not found in d.'.format(mandatory_key))\n",
    "    "
   ]
  },
  {
   "cell_type": "markdown",
   "metadata": {},
   "source": [
    "## PDB - The Python Debugger\n",
    "\n",
    "As IPython is to Python\n",
    "PDB and ipdb are to standard pdb interface"
   ]
  },
  {
   "cell_type": "code",
   "execution_count": 8,
   "metadata": {},
   "outputs": [
    {
     "ename": "ModuleNotFoundError",
     "evalue": "No module named 'ipdb'",
     "output_type": "error",
     "traceback": [
      "\u001b[1;31m---------------------------------------------------------------------------\u001b[0m",
      "\u001b[1;31mModuleNotFoundError\u001b[0m                       Traceback (most recent call last)",
      "\u001b[1;32m<ipython-input-8-f370677d2457>\u001b[0m in \u001b[0;36m<module>\u001b[1;34m()\u001b[0m\n\u001b[0;32m     11\u001b[0m \u001b[1;33m\u001b[0m\u001b[0m\n\u001b[0;32m     12\u001b[0m \u001b[1;31m# Setting a breakpoint\u001b[0m\u001b[1;33m\u001b[0m\u001b[1;33m\u001b[0m\u001b[0m\n\u001b[1;32m---> 13\u001b[1;33m \u001b[1;32mimport\u001b[0m \u001b[0mipdb\u001b[0m\u001b[1;33m\u001b[0m\u001b[0m\n\u001b[0m\u001b[0;32m     14\u001b[0m \u001b[0mipdb\u001b[0m\u001b[1;33m.\u001b[0m\u001b[0mset_trace\u001b[0m\u001b[1;33m(\u001b[0m\u001b[1;33m)\u001b[0m\u001b[1;33m\u001b[0m\u001b[0m\n\u001b[0;32m     15\u001b[0m \u001b[1;33m\u001b[0m\u001b[0m\n",
      "\u001b[1;31mModuleNotFoundError\u001b[0m: No module named 'ipdb'"
     ]
    }
   ],
   "source": [
    "# Code with an Error\n",
    "\n",
    "# d comes from a JSON payload we don't control\n",
    "d = {'first': 'v1', 'second': 'v2', 'fourth': 'v4'}\n",
    "\n",
    "# keys also comes from a JSON payload we don't control\n",
    "keys = ('first', 'second', 'third', 'fourth')\n",
    "\n",
    "def do_something_with_value(value):\n",
    "    print(value)\n",
    "    \n",
    "# Setting a breakpoint\n",
    "# import ipdb\n",
    "# ipdb.set_trace()\n",
    "\n",
    "for key in keys:\n",
    "    do_something_with_value(d[key])\n",
    "print('Validation done.')"
   ]
  },
  {
   "cell_type": "markdown",
   "metadata": {},
   "source": [
    "## Logging\n",
    "\n",
    "Normally the four roles involved are:\n",
    "\n",
    "* Loggers  - expose interface the app code uses directly\n",
    "* Handlers - send log records (created by loggers) to specific location\n",
    "* Filters  - provide finer grained facility for determining which log records to output\n",
    "* Formatters - specify the layout of the log records in the final output\n",
    "\n",
    "Log Levels - DEBUG, INFO, WARNING, ERROR, and CRITICAL.\n",
    "\n",
    "[Official Python Logging Docs](https://docs.python.org/3.6/howto/logging)"
   ]
  },
  {
   "cell_type": "code",
   "execution_count": 9,
   "metadata": {
    "collapsed": true
   },
   "outputs": [],
   "source": [
    "import logging\n",
    "\n",
    "logging.basicConfig(\n",
    "    filename='ch11.log',\n",
    "    level=logging.DEBUG, # minimum level capture in the file\n",
    "    format='[%(asctime)s] %(levelname)s:%(message)s',\n",
    "    datefmt='%m/%d/%Y %I:%M:%S %p')\n",
    "\n",
    "mylist = [1, 2, 3]\n",
    "logging.info('Starting to process `mylist`...')\n",
    "\n",
    "for position in range(4):\n",
    "    try:\n",
    "        logging.debug('Value at position {} is {}'.format(\n",
    "            position, mylist[position]))\n",
    "    except IndexError:\n",
    "        logging.exception('Faulty position: {}'.format(position))\n",
    "        \n",
    "logging.info('Done parsing `mylist`.')"
   ]
  },
  {
   "cell_type": "code",
   "execution_count": null,
   "metadata": {
    "collapsed": true
   },
   "outputs": [],
   "source": []
  }
 ],
 "metadata": {
  "kernelspec": {
   "display_name": "Python 3",
   "language": "python",
   "name": "python3"
  },
  "language_info": {
   "codemirror_mode": {
    "name": "ipython",
    "version": 3
   },
   "file_extension": ".py",
   "mimetype": "text/x-python",
   "name": "python",
   "nbconvert_exporter": "python",
   "pygments_lexer": "ipython3",
   "version": "3.6.1"
  }
 },
 "nbformat": 4,
 "nbformat_minor": 2
}
