{
 "cells": [
  {
   "cell_type": "markdown",
   "metadata": {},
   "source": [
    "# Data Science and Linear Alegebra Explorations\n",
    "\n",
    "General exploration of working with Linear Algebra problems using Python and various libraries\n",
    "\n",
    "List of great information and tutorial links\n",
    "\n",
    "* [Data and Science Python Modules](https://people.duke.edu/~ccc14/sta-663/IPythonNotebookIntroduction.html)\n",
    "* [Intro Python for Data Science](https://www.datacamp.com/courses/intro-to-python-for-data-science)\n",
    "* [matplotlib](http://matplotlib.org/users/pyplot_tutorial.html)\n",
    "* [Tutorials and Cheatsheets](https://www.continuum.io/blog/developer-blog/learning-python-data-science-cheat-sheets)\n",
    "* [Using Conda](https://conda.io/docs/using/)\n",
    "* [SymPy](http://www.sympy.org/en/index.html)\n"
   ]
  },
  {
   "cell_type": "code",
   "execution_count": null,
   "metadata": {
    "collapsed": true
   },
   "outputs": [],
   "source": []
  }
 ],
 "metadata": {
  "kernelspec": {
   "display_name": "Python 3",
   "language": "python",
   "name": "python3"
  },
  "language_info": {
   "codemirror_mode": {
    "name": "ipython",
    "version": 3
   },
   "file_extension": ".py",
   "mimetype": "text/x-python",
   "name": "python",
   "nbconvert_exporter": "python",
   "pygments_lexer": "ipython3",
   "version": "3.6.1"
  }
 },
 "nbformat": 4,
 "nbformat_minor": 2
}
