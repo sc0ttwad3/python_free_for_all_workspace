{
 "cells": [
  {
   "cell_type": "markdown",
   "metadata": {},
   "source": [
    "# Python Built-in Types"
   ]
  },
  {
   "cell_type": "markdown",
   "metadata": {},
   "source": [
    "## Immutable Types"
   ]
  },
  {
   "cell_type": "markdown",
   "metadata": {},
   "source": [
    "### Strings ###\n",
    "\n",
    "Immutable sequences of unicode code-points, can be designated by surrounding 'x', \"x\", or multi-line with \"\"\"x\"\"\""
   ]
  },
  {
   "cell_type": "code",
   "execution_count": 4,
   "metadata": {},
   "outputs": [
    {
     "name": "stdout",
     "output_type": "stream",
     "text": [
      "This is the time for all good men to join!\n",
      "e time for all good men to join!\n",
      "This is \n",
      "is\n",
      "iit mf\n",
      "\n",
      "\n",
      "    Nowhere is\n",
      "    A fine place\n",
      "    To Never Be\n",
      "\n"
     ]
    }
   ],
   "source": [
    "strOne = \"This is the time for all good men to join!\"\n",
    "strOneCopy = strOne[:]\n",
    "strMultiLine = \"\"\"\n",
    "    Nowhere is\n",
    "    A fine place\n",
    "    To Never Be\n",
    "\"\"\"\n",
    "\n",
    "# someSequence[start:stop:step]\n",
    "print(strOneCopy)\n",
    "print(strOne[10:])\n",
    "print(strOne[:8])\n",
    "print(strOne[5:7])\n",
    "print(strOne[2:20:3])\n",
    "print(\"\")\n",
    "print(strMultiLine)"
   ]
  },
  {
   "cell_type": "markdown",
   "metadata": {},
   "source": [
    "### Bytes\n",
    "\n",
    "A Bytes object is a variable length character encoding (UTF-8) capable of encoding all possible unicode points.  It is the dominant encoding for the Web and elsewhere."
   ]
  },
  {
   "cell_type": "code",
   "execution_count": 19,
   "metadata": {},
   "outputs": [
    {
     "name": "stdout",
     "output_type": "stream",
     "text": [
      "<class 'str'>\n",
      "<class 'bytes'>\n",
      "\n",
      "b'This is \\xc3\\xbc\\xc5\\x8b\\xc3\\xadc0de'\n",
      "This is Ã¼ÅÃ­c0de\n",
      "\n",
      "<class 'bytes'>\n",
      "b'A Bytes Object!'\n"
     ]
    }
   ],
   "source": [
    "unicodeStr = \"This is Ã¼ÅÃ­c0de\"\n",
    "print(type(unicodeStr))\n",
    "encoded = unicodeStr.encode('utf-8')\n",
    "print(type(encoded))\n",
    "print('')\n",
    "print(encoded)\n",
    "print(encoded.decode('utf-8'))\n",
    "print('')\n",
    "bytesOne = b'A Bytes Object!'\n",
    "print(type(bytesOne))\n",
    "print(bytesOne)"
   ]
  },
  {
   "cell_type": "markdown",
   "metadata": {},
   "source": [
    "### Tuples\n",
    "\n",
    "Sequences of arbitrary Python objects; items seperated by commas; allow for multiple values on one line, functions to return multiple difference objects, and other patterns.\n",
    "\n",
    "* Frequently used for heterogeneous data (accessed by indexing, unpacking)\n",
    "* Can be used as keys in dictionaries (which need immutable keys!)\n",
    "* Like Vectors in other languages, somewhat."
   ]
  },
  {
   "cell_type": "code",
   "execution_count": 12,
   "metadata": {},
   "outputs": [
    {
     "name": "stdout",
     "output_type": "stream",
     "text": [
      "<class 'tuple'>\n",
      "()\n",
      "(42,)\n",
      "(1, 3, 5)\n",
      "2 1 3\n"
     ]
    },
    {
     "data": {
      "text/plain": [
       "True"
      ]
     },
     "execution_count": 12,
     "metadata": {},
     "output_type": "execute_result"
    }
   ],
   "source": [
    "tOne = ()\n",
    "print(type(tOne))\n",
    "tOneElem = (42,)\n",
    "tThreeElem = (1,3,5)\n",
    "a,b,c = 1,2,3\n",
    "a,b = b,a\n",
    "print(tOne)\n",
    "print(tOneElem)\n",
    "print(tThreeElem)\n",
    "print(a,b,c)\n",
    "\n",
    "# membership test\n",
    "3 in tThreeElem"
   ]
  },
  {
   "cell_type": "markdown",
   "metadata": {},
   "source": [
    "### Sets"
   ]
  },
  {
   "cell_type": "code",
   "execution_count": 44,
   "metadata": {},
   "outputs": [
    {
     "name": "stdout",
     "output_type": "stream",
     "text": [
      "{2, 3}\n",
      "\n",
      "{13, 11, 5, 7}\n",
      "{2, 3, 5}\n"
     ]
    }
   ],
   "source": [
    "sp = set()\n",
    "sp.add(2)\n",
    "sp.add(3)\n",
    "print(sp)\n",
    "print(\"\")\n",
    "bigger_primes = set([5, 7, 11, 13])\n",
    "print(bigger_primes)\n",
    "small_primes = {2, 3, 5, 5, 3}\n",
    "print(small_primes)"
   ]
  },
  {
   "cell_type": "markdown",
   "metadata": {},
   "source": [
    "## Mutable Types\n",
    "\n",
    "Python uses a 0-based indexing system. Using the length function of a collection and subtacting -1 from it to access the last element.\n",
    "\n",
    "Negative indexing makes this syntax much simpler. aCollection[-1] and so on."
   ]
  },
  {
   "cell_type": "markdown",
   "metadata": {},
   "source": [
    "### Lists"
   ]
  },
  {
   "cell_type": "code",
   "execution_count": 20,
   "metadata": {},
   "outputs": [
    {
     "name": "stdout",
     "output_type": "stream",
     "text": [
      "<class 'list'>\n"
     ]
    }
   ],
   "source": [
    "lOne = []\n",
    "print(type(lOne))"
   ]
  },
  {
   "cell_type": "code",
   "execution_count": 21,
   "metadata": {},
   "outputs": [
    {
     "data": {
      "text/plain": [
       "[7, 8, 9]"
      ]
     },
     "execution_count": 21,
     "metadata": {},
     "output_type": "execute_result"
    }
   ],
   "source": [
    "tThree = [1,2,3]\n",
    "[x+5 for x in [2,3,4]]\n"
   ]
  },
  {
   "cell_type": "code",
   "execution_count": 22,
   "metadata": {},
   "outputs": [
    {
     "name": "stdout",
     "output_type": "stream",
     "text": [
      "[1, 3, 5]\n"
     ]
    }
   ],
   "source": [
    "lFromTuple = list(tThreeElem)\n",
    "print(lFromTuple)"
   ]
  },
  {
   "cell_type": "code",
   "execution_count": 23,
   "metadata": {},
   "outputs": [
    {
     "data": {
      "text/plain": [
       "[(1, 2), (1, 3), (2, -1), (4, 9), (5, 3)]"
      ]
     },
     "execution_count": 23,
     "metadata": {},
     "output_type": "execute_result"
    }
   ],
   "source": [
    "from operator import itemgetter\n",
    "a =[(5,3), (1,3), (1,2), (2,-1), (4,9)]\n",
    "sorted(a)"
   ]
  },
  {
   "cell_type": "code",
   "execution_count": 29,
   "metadata": {},
   "outputs": [
    {
     "data": {
      "text/plain": [
       "[(1, 3), (1, 2), (2, -1), (4, 9), (5, 3)]"
      ]
     },
     "execution_count": 29,
     "metadata": {},
     "output_type": "execute_result"
    }
   ],
   "source": [
    "sorted(a, key=itemgetter(0))"
   ]
  },
  {
   "cell_type": "code",
   "execution_count": 30,
   "metadata": {},
   "outputs": [
    {
     "data": {
      "text/plain": [
       "[(2, -1), (1, 2), (5, 3), (1, 3), (4, 9)]"
      ]
     },
     "execution_count": 30,
     "metadata": {},
     "output_type": "execute_result"
    }
   ],
   "source": [
    "sorted(a, key=itemgetter(1)) #, reverse=True"
   ]
  },
  {
   "cell_type": "markdown",
   "metadata": {},
   "source": [
    "### ByteArrays\n",
    "\n",
    "Mutable sequences with most methods of bytes type\n",
    "Items are integers [0,256)\n",
    "\n",
    "When receiving data through a socket, they eliminate the need to concatenate data while polling,"
   ]
  },
  {
   "cell_type": "code",
   "execution_count": 33,
   "metadata": {},
   "outputs": [
    {
     "name": "stdout",
     "output_type": "stream",
     "text": [
      "bytearray(b'')\n",
      "bytearray(b'\\x00\\x00\\x00\\x00\\x00\\x00\\x00\\x00\\x00\\x00')\n",
      "bytearray(b'\\x00\\x01\\x02\\x03\\x04')\n"
     ]
    }
   ],
   "source": [
    "print(bytearray())\n",
    "print(bytearray(10))\n",
    "print(bytearray(range(5)))"
   ]
  },
  {
   "cell_type": "code",
   "execution_count": 39,
   "metadata": {},
   "outputs": [
    {
     "name": "stdout",
     "output_type": "stream",
     "text": [
      "bytearray(b'lina')\n",
      "True\n",
      "1\n"
     ]
    }
   ],
   "source": [
    "name = bytearray(b'Lina')\n",
    "print(name.replace(b'L', b'l'))\n",
    "print(name.endswith(b'na'))\n",
    "print(name.count(b'i'))"
   ]
  },
  {
   "cell_type": "code",
   "execution_count": 37,
   "metadata": {},
   "outputs": [
    {
     "data": {
      "text/plain": [
       "True"
      ]
     },
     "execution_count": 37,
     "metadata": {},
     "output_type": "execute_result"
    }
   ],
   "source": []
  },
  {
   "cell_type": "code",
   "execution_count": null,
   "metadata": {
    "collapsed": true
   },
   "outputs": [],
   "source": [
    "prin"
   ]
  },
  {
   "cell_type": "markdown",
   "metadata": {},
   "source": [
    "### FrozenSets\n",
    "\n",
    "Good for membership tests, union, etc. ops for performance"
   ]
  },
  {
   "cell_type": "code",
   "execution_count": 46,
   "metadata": {},
   "outputs": [
    {
     "data": {
      "text/plain": [
       "frozenset({5, 7})"
      ]
     },
     "execution_count": 46,
     "metadata": {},
     "output_type": "execute_result"
    }
   ],
   "source": [
    "sp = frozenset([2,3,5,7])\n",
    "bp = frozenset([5,7,11])\n",
    "sp & bp"
   ]
  },
  {
   "cell_type": "markdown",
   "metadata": {},
   "source": [
    "## Mapping Types\n",
    "### Dictionaries\n",
    "* Backbone of Python objects\n",
    "* Maps keys to values (hashable object to arbitrary)\n",
    "* Mutable"
   ]
  },
  {
   "cell_type": "code",
   "execution_count": 51,
   "metadata": {},
   "outputs": [
    {
     "name": "stdout",
     "output_type": "stream",
     "text": [
      "{'A': 1, 'Z': -1}\n",
      "{'Z': -1, 'A': 1}\n",
      "True\n"
     ]
    }
   ],
   "source": [
    "a = dict(A=1, Z=-1)\n",
    "b = {'A': 1, 'Z': -1}\n",
    "c = dict(zip(['A', 'Z'], [1, -1]))\n",
    "e = dict({'Z': -1, 'A': 1})\n",
    "print(a)\n",
    "print(e)\n",
    "print(a == e)"
   ]
  },
  {
   "cell_type": "code",
   "execution_count": 52,
   "metadata": {},
   "outputs": [
    {
     "data": {
      "text/plain": [
       "[('h', 1), ('e', 2), ('l', 3), ('l', 4), ('o', 5)]"
      ]
     },
     "execution_count": 52,
     "metadata": {},
     "output_type": "execute_result"
    }
   ],
   "source": [
    "list(zip('hello', range(1, 6)))"
   ]
  },
  {
   "cell_type": "code",
   "execution_count": 5,
   "metadata": {},
   "outputs": [
    {
     "name": "stdout",
     "output_type": "stream",
     "text": [
      "2\n",
      "dict_keys(['a', 'b'])\n",
      "dict_values([1, 2])\n",
      "dict_items([('a', 1), ('b', 2)])\n"
     ]
    },
    {
     "data": {
      "text/plain": [
       "True"
      ]
     },
     "execution_count": 5,
     "metadata": {},
     "output_type": "execute_result"
    }
   ],
   "source": [
    "d = {}\n",
    "d['a'] = 1\n",
    "d['b'] = 2\n",
    "print(len(d))\n",
    "print(d.keys())\n",
    "print(d.values())\n",
    "print(d.items())\n",
    "('b', 2) in d.items()"
   ]
  },
  {
   "cell_type": "code",
   "execution_count": 10,
   "metadata": {},
   "outputs": [
    {
     "name": "stdout",
     "output_type": "stream",
     "text": [
      "{'e': 1, 'h': 0, 'o': 4, 'l': 3}\n",
      "4\n",
      "None\n"
     ]
    },
    {
     "data": {
      "text/plain": [
       "177"
      ]
     },
     "execution_count": 10,
     "metadata": {},
     "output_type": "execute_result"
    }
   ],
   "source": [
    "d = {'e': 1, 'h': 0, 'o': 4, 'l': 3}\n",
    "print(d)\n",
    "print(d.get('o'))\n",
    "print(d.get('p'))\n",
    "d.get('z', 177) # default if key missing"
   ]
  },
  {
   "cell_type": "code",
   "execution_count": 11,
   "metadata": {},
   "outputs": [
    {
     "data": {
      "text/plain": [
       "{'a': {'b': [1]}}"
      ]
     },
     "execution_count": 11,
     "metadata": {},
     "output_type": "execute_result"
    }
   ],
   "source": [
    "g = {}\n",
    "g.setdefault('a', {}).setdefault('b', []).append(1)\n",
    "g"
   ]
  },
  {
   "cell_type": "markdown",
   "metadata": {},
   "source": [
    "## The collections module\n",
    "\n",
    "Specialized data types when the general purpose built-in containers aren't enough.\n",
    "\n",
    "* __namedtuple()__ A factory function for creating tuple subclasses with named fields\n",
    "* __deque__ A list-like container with fast appends and pops on either end\n",
    "* __ChainMap__ A dict-like class for creating a single view of multiple mappings\n",
    "* __Counter__ A dict subclass for counting hashable objects\n",
    "* __OrderedDict__ A dict subclass that remembers the order entries were added\n",
    "* __defaultdict__ A dict subclass that calls a factory function to supply missing values\n",
    "* __UserDict__ A wrapper around dictionary objects for easier dict subclassing\n",
    "* __UserList__ A wrapper around list objects for easier list subclassing\n",
    "* __UserString__ A wrapper around string objects for easier string subclassing"
   ]
  },
  {
   "cell_type": "markdown",
   "metadata": {},
   "source": [
    "### namedtuple\n",
    "\n",
    "Somewhere between a tuple and a full-fledged object, best for avoiding weird indexing and for better readability"
   ]
  },
  {
   "cell_type": "code",
   "execution_count": 13,
   "metadata": {},
   "outputs": [
    {
     "name": "stdout",
     "output_type": "stream",
     "text": [
      "(9.5, 8.8)\n"
     ]
    },
    {
     "data": {
      "text/plain": [
       "9.5"
      ]
     },
     "execution_count": 13,
     "metadata": {},
     "output_type": "execute_result"
    }
   ],
   "source": [
    "vision = (9.5, 8.8) # left-eye, right-eye\n",
    "print(vision)\n",
    "vision[0] # problem refer to values by position!"
   ]
  },
  {
   "cell_type": "code",
   "execution_count": 17,
   "metadata": {},
   "outputs": [
    {
     "name": "stdout",
     "output_type": "stream",
     "text": [
      "Vision(left=9.5, right=8.8)\n",
      "9.5\n",
      "9.5\n",
      "8.8\n"
     ]
    }
   ],
   "source": [
    "from collections import namedtuple\n",
    "Vision = namedtuple('Vision', ['left', 'right'])\n",
    "vision = Vision(9.5, 8.8)\n",
    "print(vision)\n",
    "print(vision[0])\n",
    "print(vision.left)\n",
    "print(vision.right)"
   ]
  },
  {
   "cell_type": "markdown",
   "metadata": {},
   "source": [
    "### defaultdict\n",
    "\n",
    "Allows you to avoid checking if a key is in a dictionary by simply inserting it for you on your first access attempt, with a default value whose type you pass on creation."
   ]
  },
  {
   "cell_type": "code",
   "execution_count": 1,
   "metadata": {},
   "outputs": [
    {
     "name": "stdout",
     "output_type": "stream",
     "text": [
      "{'age': 1}\n"
     ]
    },
    {
     "data": {
      "text/plain": [
       "{'age': 40}"
      ]
     },
     "execution_count": 1,
     "metadata": {},
     "output_type": "execute_result"
    }
   ],
   "source": [
    "d = {}\n",
    "d['age'] = d.get('age',0) + 1\n",
    "print(d)\n",
    "d = {'age': 39}\n",
    "d['age'] = d.get('age',0) + 1\n",
    "d"
   ]
  },
  {
   "cell_type": "code",
   "execution_count": 5,
   "metadata": {},
   "outputs": [
    {
     "name": "stdout",
     "output_type": "stream",
     "text": [
      "defaultdict(<class 'int'>, {'age': 1})\n"
     ]
    },
    {
     "data": {
      "text/plain": [
       "defaultdict(int, {'age': 40})"
      ]
     },
     "execution_count": 5,
     "metadata": {},
     "output_type": "execute_result"
    }
   ],
   "source": [
    "from collections import defaultdict\n",
    "dd = defaultdict(int)\n",
    "dd['age'] +=1\n",
    "print(dd)\n",
    "dd['age'] = 39\n",
    "dd['age'] +=1\n",
    "dd"
   ]
  },
  {
   "cell_type": "markdown",
   "metadata": {},
   "source": [
    "### ChainMap\n",
    "\n",
    "Behaves like a dictionary but is provided for quickly linking a number of mappings then treated as a single unit.\n",
    "\n",
    "__Use Case__: You work on a ChainMap object, configure the first mapping as you want, and when you need a complete dictionary with all the defaults as well as the customized items, you just feed the ChainMap object to a dict constructor."
   ]
  },
  {
   "cell_type": "code",
   "execution_count": 8,
   "metadata": {},
   "outputs": [
    {
     "name": "stdout",
     "output_type": "stream",
     "text": [
      "5678\n",
      "localhost\n",
      "[{'port': 5678}, {'host': 'localhost', 'port': 4567}]\n",
      "[{'port': 5678, 'host': 'hp.com'}, {'host': 'localhost', 'port': 4567}]\n",
      "[{'host': 'hp.com'}, {'host': 'localhost', 'port': 4567}]\n",
      "['port']\n",
      "4567\n"
     ]
    },
    {
     "data": {
      "text/plain": [
       "{'host': 'hp.com', 'port': 4567}"
      ]
     },
     "execution_count": 8,
     "metadata": {},
     "output_type": "execute_result"
    }
   ],
   "source": [
    "from collections import ChainMap\n",
    "def_conn = {'host':'localhost', 'port':4567}\n",
    "conn = {'port':5678}\n",
    "cn = ChainMap(conn, def_conn)\n",
    "print(cn['port'])\n",
    "print(cn['host'])\n",
    "print(cn.maps)\n",
    "cn['host'] = 'hp.com'\n",
    "print(cn.maps)\n",
    "del cn['port']\n",
    "print(cn.maps)\n",
    "print(['port'])\n",
    "print(cn['port'])\n",
    "dict(cn)"
   ]
  },
  {
   "cell_type": "markdown",
   "metadata": {},
   "source": [
    "#### Other Notes\n",
    "\n",
    "* Handling data is a part of nearly every task, understanding of data-structures needs to be rock solid\n",
    "* Python caches short strings and small numbers, to avoid having many copies of them clogging up the system memory---Remember this behavior should your\n",
    "code ever need to fiddle with IDs\n",
    "* Negative indexing/slicing is very useful for working with data at the 'end' of data-structures \n",
    "\n"
   ]
  },
  {
   "cell_type": "markdown",
   "metadata": {},
   "source": [
    "##### Choosing a data-structure\n",
    "\n",
    "* What kind of access will I need? \n",
    "* What sort of operations will I have to perform on each access?\n",
    "* How many times? \n",
    "* Will the collection change over time? \n",
    "* Will I need to modify the customer dictionaries in any way? \n",
    "* What is going to be the most frequent operation I will have to perform on the collection?"
   ]
  },
  {
   "cell_type": "code",
   "execution_count": null,
   "metadata": {
    "collapsed": true
   },
   "outputs": [],
   "source": []
  }
 ],
 "metadata": {
  "kernelspec": {
   "display_name": "Python 3",
   "language": "python",
   "name": "python3"
  },
  "language_info": {
   "codemirror_mode": {
    "name": "ipython",
    "version": 3
   },
   "file_extension": ".py",
   "mimetype": "text/x-python",
   "name": "python",
   "nbconvert_exporter": "python",
   "pygments_lexer": "ipython3",
   "version": "3.6.1"
  }
 },
 "nbformat": 4,
 "nbformat_minor": 2
}
