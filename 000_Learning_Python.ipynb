{
 "cells": [
  {
   "cell_type": "markdown",
   "metadata": {},
   "source": [
    "# Learning Python\n",
    "## Essential version 3.x infomation and syntax\n",
    "\n",
    "A **String** in Python 3 is an immutable sequence that stores Unicode code points and are sequences/data-containers (albeit ones that are limited to storing Unicode text data)."
   ]
  },
  {
   "cell_type": "code",
   "execution_count": 21,
   "metadata": {},
   "outputs": [
    {
     "name": "stdout",
     "output_type": "stream",
     "text": [
      "This is a string. This too\n",
      "... is a multiline string\n",
      "... built with triple double-quotes.\n",
      "b'foo'\n",
      "This is üŋíc0de\n"
     ]
    },
    {
     "data": {
      "text/plain": [
       "b'This is \\xc3\\xbc\\xc5\\x8b\\xc3\\xadc0de'"
      ]
     },
     "execution_count": 21,
     "metadata": {},
     "output_type": "execute_result"
    }
   ],
   "source": [
    "str2 = 'This is a string.'\n",
    "str3 = \"\"\"This too\n",
    "... is a multiline string\n",
    "... built with triple double-quotes.\"\"\"\n",
    "print(str2, str3)\n",
    "print(bytes([102, 111, 111]))\n",
    "s = \"This is üŋíc0de\"\n",
    "print(s)\n",
    "encoded_s = s.encode('utf-8')\n",
    "encoded_s"
   ]
  },
  {
   "cell_type": "code",
   "execution_count": 24,
   "metadata": {},
   "outputs": [
    {
     "name": "stdout",
     "output_type": "stream",
     "text": [
      "b'A bytes object'\n"
     ]
    }
   ],
   "source": [
    "list(b'foo bar')\n",
    "bytes_obj = b\"A bytes object\"\n",
    "print(bytes_obj)"
   ]
  },
  {
   "cell_type": "markdown",
   "metadata": {},
   "source": [
    "### Indexing and Slicing Strings\n",
    "\n",
    "* Zero-based access to any position by indexing\n",
    "* Slicing gets a subsequence.\n",
    "\n",
    "my_sequence[start:stop:step] # all args are optional\n",
    "\n",
    "(start is inclusive......stop is exclusive]\n"
   ]
  },
  {
   "cell_type": "code",
   "execution_count": 4,
   "metadata": {},
   "outputs": [
    {
     "name": "stdout",
     "output_type": "stream",
     "text": [
      "T\n",
      "r\n",
      "The \n",
      "trouble is you think you have time.\n",
      "erb \n",
      "The trouble is you think you have time.\n",
      ".emit evah uoy kniht uoy si elbuort ehT\n"
     ]
    }
   ],
   "source": [
    "s = \"The trouble is you think you have time.\"\n",
    "print(s[0])\n",
    "print(s[5])\n",
    "print(s[:4])\n",
    "print(s[4:])\n",
    "print(s[2:14:3])\n",
    "print(s[:]) # quick way of making a copy of a sequence!\n",
    "print(s[::-1])"
   ]
  },
  {
   "cell_type": "code",
   "execution_count": 7,
   "metadata": {},
   "outputs": [
    {
     "name": "stdout",
     "output_type": "stream",
     "text": [
      "['1', '5', '88', '1203', '12675']\n",
      "[1, 5, 88, 1203, 12675]\n"
     ]
    }
   ],
   "source": [
    "import re\n",
    "\n",
    "st = \"1,5,88,1203,12675\"\n",
    "stc = re.split(r'[,]+', st)\n",
    "print(stc)\n",
    "\n",
    "# Convert elements to integers\n",
    "# Lamda functions in Python use: lambda x: x + 10\n",
    "stc_ints = sorted(map(lambda x: int(x), stc))\n",
    "print(stc_ints) \n",
    "\n"
   ]
  },
  {
   "cell_type": "code",
   "execution_count": null,
   "metadata": {
    "collapsed": true
   },
   "outputs": [],
   "source": []
  },
  {
   "cell_type": "code",
   "execution_count": null,
   "metadata": {
    "collapsed": true
   },
   "outputs": [],
   "source": []
  },
  {
   "cell_type": "code",
   "execution_count": null,
   "metadata": {
    "collapsed": true
   },
   "outputs": [],
   "source": []
  },
  {
   "cell_type": "markdown",
   "metadata": {},
   "source": [
    "Packing/Unpacking of sequences, Simultaneous Assignment, Spread/Rest operations"
   ]
  },
  {
   "cell_type": "code",
   "execution_count": 11,
   "metadata": {},
   "outputs": [
    {
     "name": "stdout",
     "output_type": "stream",
     "text": [
      "(1, 3, 5, 7, 9)\n",
      "7 8 9 10\n",
      "8 7 9 10\n",
      "0\n",
      "1\n",
      "[2, 3, 4, 5, 6]\n"
     ]
    }
   ],
   "source": [
    "# Common use is also when returning multiple values from a function\n",
    "#     return x,y\n",
    "\n",
    "data = 1,3,5,7,9 # data treated as tuple, automatic packing behavior\n",
    "print(data)\n",
    "\n",
    "# Unpacking\n",
    "a, b, c, d = range(7, 11)\n",
    "print(a,b,c,d)\n",
    "\n",
    "# commonly used to iterate through key-value pairs that are \n",
    "# returned by the items( ) method of the dict class\n",
    "# for k,v in mapping.items()\n",
    "\n",
    "# simultaneous\n",
    "a,b = b,a\n",
    "print(a,b,c,d)\n",
    "\n",
    "first, second, *rest = 0,1,2,3,4,5,6\n",
    "print(first)\n",
    "print(second)\n",
    "print(rest)\n",
    "\n",
    "# first, *inner, last = 0, 1, 2, 3  # also works"
   ]
  },
  {
   "cell_type": "code",
   "execution_count": 5,
   "metadata": {},
   "outputs": [
    {
     "data": {
      "text/plain": [
       "(102, 111, 111, 32, 98, 97, 114)"
      ]
     },
     "execution_count": 5,
     "metadata": {},
     "output_type": "execute_result"
    }
   ],
   "source": [
    "tuple(b'foo bar')"
   ]
  },
  {
   "cell_type": "code",
   "execution_count": 6,
   "metadata": {},
   "outputs": [
    {
     "data": {
      "text/plain": [
       "2.5"
      ]
     },
     "execution_count": 6,
     "metadata": {},
     "output_type": "execute_result"
    }
   ],
   "source": [
    "10/4"
   ]
  },
  {
   "cell_type": "code",
   "execution_count": 7,
   "metadata": {},
   "outputs": [
    {
     "data": {
      "text/plain": [
       "2"
      ]
     },
     "execution_count": 7,
     "metadata": {},
     "output_type": "execute_result"
    }
   ],
   "source": [
    "10//4"
   ]
  },
  {
   "cell_type": "code",
   "execution_count": 8,
   "metadata": {},
   "outputs": [
    {
     "data": {
      "text/plain": [
       "179769313486231590772930519078902473361797697894230657273430081157732675805500963132708477322407536021120113879871393357658789768814416622492847430639474124377767893424865485276302219601246094119453082952085005768838150682342462881473913110540827237163350510684586298239947245938479716304835356329624224137216"
      ]
     },
     "execution_count": 8,
     "metadata": {},
     "output_type": "execute_result"
    }
   ],
   "source": [
    "2 ** 1024"
   ]
  },
  {
   "cell_type": "code",
   "execution_count": 13,
   "metadata": {},
   "outputs": [
    {
     "data": {
      "text/plain": [
       "sys.float_info(max=1.7976931348623157e+308, max_exp=1024, max_10_exp=308, min=2.2250738585072014e-308, min_exp=-1021, min_10_exp=-307, dig=15, mant_dig=53, epsilon=2.220446049250313e-16, radix=2, rounds=1)"
      ]
     },
     "execution_count": 13,
     "metadata": {},
     "output_type": "execute_result"
    }
   ],
   "source": [
    "import sys\n",
    "sys.float_info"
   ]
  },
  {
   "cell_type": "markdown",
   "metadata": {},
   "source": [
    "### Complex and Fractions\n",
    "Location is p.37 OF LEARNING_PYTHON"
   ]
  },
  {
   "cell_type": "code",
   "execution_count": 1,
   "metadata": {
    "collapsed": true
   },
   "outputs": [],
   "source": [
    "c = 3.14159 + 2.73000j"
   ]
  },
  {
   "cell_type": "code",
   "execution_count": 8,
   "metadata": {},
   "outputs": [
    {
     "data": {
      "text/plain": [
       "(3.14159-2.73j)"
      ]
     },
     "execution_count": 8,
     "metadata": {},
     "output_type": "execute_result"
    }
   ],
   "source": [
    "c.real\n",
    "c.imag\n",
    "c.conjugate()"
   ]
  },
  {
   "cell_type": "code",
   "execution_count": 11,
   "metadata": {},
   "outputs": [
    {
     "data": {
      "text/plain": [
       "Fraction(5, 3)"
      ]
     },
     "execution_count": 11,
     "metadata": {},
     "output_type": "execute_result"
    }
   ],
   "source": [
    "from fractions import Fraction\n",
    "\n",
    "Fraction(10,6)\n"
   ]
  },
  {
   "cell_type": "markdown",
   "metadata": {
    "collapsed": true
   },
   "source": [
    "## Tips and Optimizations\n",
    "\n",
    "### Map, Zip, Filter to Massage Sequences Efficiently\n",
    "\n",
    "* The decorate-sort-undecorate idiom (also known as Schwartzian transform)\n",
    "* Map applies function to every element in list\n",
    "* Zip combined with Map\n",
    "* Filter passing only those arguments that return True from predicate function\n",
    "\n",
    "Lamda functions in JavaScript use: __(x) => x + 10__\n",
    "\n",
    "Lamda functions in Python use: __lambda x: x + 10__"
   ]
  },
  {
   "cell_type": "code",
   "execution_count": 1,
   "metadata": {
    "collapsed": true
   },
   "outputs": [],
   "source": [
    "students = [\n",
    "    dict(id=0, credits=dict(math=9, physics=6, history=7)),\n",
    "    dict(id=1, credits=dict(math=6, physics=7, latin=10)),\n",
    "    dict(id=2, credits=dict(history=8, physics=9, chemistry=10)),\n",
    "    dict(id=3, credits=dict(math=5, physics=5, geography=7)),\n",
    "]"
   ]
  },
  {
   "cell_type": "code",
   "execution_count": 2,
   "metadata": {
    "collapsed": true
   },
   "outputs": [],
   "source": [
    "def decorate(student):\n",
    "    # create a 2-tuple (sum of credits, student) from student dict\n",
    "    return (sum(student['credits'].values()), student)\n",
    "\n",
    "def undecorate(decorated_student):\n",
    "    # discard sum of credits, return original student dict\n",
    "    return decorated_student[1]"
   ]
  },
  {
   "cell_type": "code",
   "execution_count": 5,
   "metadata": {},
   "outputs": [
    {
     "name": "stdout",
     "output_type": "stream",
     "text": [
      "[{'id': 2, 'credits': {'history': 8, 'physics': 9, 'chemistry': 10}}, {'id': 1, 'credits': {'math': 6, 'physics': 7, 'latin': 10}}, {'id': 0, 'credits': {'math': 9, 'physics': 6, 'history': 7}}, {'id': 3, 'credits': {'math': 5, 'physics': 5, 'geography': 7}}]\n"
     ]
    }
   ],
   "source": [
    "students = sorted(map(decorate, students), reverse=True)\n",
    "students = list(map(undecorate, students))\n",
    "\n",
    "# sorted by sum of their credits\n",
    "print(students)"
   ]
  },
  {
   "cell_type": "code",
   "execution_count": 6,
   "metadata": {},
   "outputs": [
    {
     "data": {
      "text/plain": [
       "[(22, 18), (21, 23), (29, 30), (24, 27), (18, 15), (18, 9), (24, 22)]"
      ]
     },
     "execution_count": 6,
     "metadata": {},
     "output_type": "execute_result"
    }
   ],
   "source": [
    "grades = [18, 23, 30, 27, 15, 9, 22]\n",
    "avgs = [22, 21, 29, 24, 18, 18, 24]\n",
    "list(zip(avgs, grades))"
   ]
  },
  {
   "cell_type": "code",
   "execution_count": 7,
   "metadata": {},
   "outputs": [
    {
     "data": {
      "text/plain": [
       "[(22, 18), (21, 23), (29, 30), (24, 27), (18, 15), (18, 9), (24, 22)]"
      ]
     },
     "execution_count": 7,
     "metadata": {},
     "output_type": "execute_result"
    }
   ],
   "source": [
    "list(map(lambda *a: a, avgs, grades)) # equivalent to Zip"
   ]
  },
  {
   "cell_type": "code",
   "execution_count": 11,
   "metadata": {},
   "outputs": [
    {
     "data": {
      "text/plain": [
       "[6, 9, 2, 9, 7]"
      ]
     },
     "execution_count": 11,
     "metadata": {},
     "output_type": "execute_result"
    }
   ],
   "source": [
    "# Using Map and Zip\n",
    "# Calculate the elem-wise maximum among sequences\n",
    "# The maximum of the first element of each seq, then max of second seq, and so on\n",
    "a = [5, 9, 2, 4, 7]\n",
    "b = [3, 7, 1, 9, 2]\n",
    "c = [6, 8, 0, 5, 3]\n",
    "\n",
    "# using map instead of zip would be more complicated function\n",
    "maxs = map(lambda n: max(*n), zip(a,b,c))\n",
    "list(maxs)"
   ]
  },
  {
   "cell_type": "code",
   "execution_count": 14,
   "metadata": {},
   "outputs": [
    {
     "data": {
      "text/plain": [
       "[2, 5, 8, 1]"
      ]
     },
     "execution_count": 14,
     "metadata": {},
     "output_type": "execute_result"
    }
   ],
   "source": [
    "filData = [2,5,8,0,0,1,0]\n",
    "list(filter(None, filData))"
   ]
  },
  {
   "cell_type": "code",
   "execution_count": 15,
   "metadata": {},
   "outputs": [
    {
     "data": {
      "text/plain": [
       "[2, 5, 8, 1]"
      ]
     },
     "execution_count": 15,
     "metadata": {},
     "output_type": "execute_result"
    }
   ],
   "source": [
    "list(filter(lambda x: x, filData)) # equivalent to prior filter"
   ]
  },
  {
   "cell_type": "code",
   "execution_count": 16,
   "metadata": {},
   "outputs": [
    {
     "data": {
      "text/plain": [
       "[5, 8]"
      ]
     },
     "execution_count": 16,
     "metadata": {},
     "output_type": "execute_result"
    }
   ],
   "source": [
    "list(filter(lambda x: x > 4, filData))"
   ]
  },
  {
   "cell_type": "markdown",
   "metadata": {},
   "source": [
    "Use *OrderedDict* to keep the order of additions to it"
   ]
  },
  {
   "cell_type": "code",
   "execution_count": 4,
   "metadata": {},
   "outputs": [
    {
     "data": {
      "text/plain": [
       "odict_keys(['0', '1', '2', '3', '4'])"
      ]
     },
     "execution_count": 4,
     "metadata": {},
     "output_type": "execute_result"
    }
   ],
   "source": [
    "from collections import OrderedDict\n",
    "\n",
    "OrderedDict((str(number), None) for number in range(5)).keys()"
   ]
  },
  {
   "cell_type": "markdown",
   "metadata": {},
   "source": [
    "### Comprehensions\n",
    "\n",
    "Python offers you different types of comprehensions: list, dict, and set\n",
    "\n",
    "List comprehensions consist of brackets containing an expression followed by\n",
    "a for clause, then zero or more for or if clauses. The result will be a new list with the results.\n"
   ]
  },
  {
   "cell_type": "code",
   "execution_count": 3,
   "metadata": {},
   "outputs": [
    {
     "data": {
      "text/plain": [
       "[0, 1, 4, 9, 16, 25, 36, 49, 64, 81]"
      ]
     },
     "execution_count": 3,
     "metadata": {},
     "output_type": "execute_result"
    }
   ],
   "source": [
    "squares = map(lambda n: n**2, range(10))\n",
    "list(squares)"
   ]
  },
  {
   "cell_type": "code",
   "execution_count": 5,
   "metadata": {},
   "outputs": [
    {
     "data": {
      "text/plain": [
       "[0, 4, 16, 36, 64]"
      ]
     },
     "execution_count": 5,
     "metadata": {},
     "output_type": "execute_result"
    }
   ],
   "source": [
    "[n**2 for n in range(10) if not n%2]"
   ]
  },
  {
   "cell_type": "code",
   "execution_count": 7,
   "metadata": {},
   "outputs": [
    {
     "data": {
      "text/plain": [
       "[('A', 'A'),\n",
       " ('A', 'B'),\n",
       " ('A', 'C'),\n",
       " ('A', 'D'),\n",
       " ('A', 'E'),\n",
       " ('B', 'B'),\n",
       " ('B', 'C'),\n",
       " ('B', 'D'),\n",
       " ('B', 'E'),\n",
       " ('C', 'C'),\n",
       " ('C', 'D'),\n",
       " ('C', 'E'),\n",
       " ('D', 'D'),\n",
       " ('D', 'E'),\n",
       " ('E', 'E')]"
      ]
     },
     "execution_count": 7,
     "metadata": {},
     "output_type": "execute_result"
    }
   ],
   "source": [
    "# Nested comprehensions\n",
    "#\n",
    "items = 'ABCDE'\n",
    "pairs = []\n",
    "for a in range(len(items)):\n",
    "    for b in range(a, len(items)):\n",
    "        pairs.append((items[a], items[b]))\n",
    "        \n",
    "pairs"
   ]
  },
  {
   "cell_type": "code",
   "execution_count": 10,
   "metadata": {},
   "outputs": [
    {
     "data": {
      "text/plain": [
       "[('A', 'A'),\n",
       " ('A', 'B'),\n",
       " ('A', 'C'),\n",
       " ('A', 'D'),\n",
       " ('A', 'E'),\n",
       " ('B', 'B'),\n",
       " ('B', 'C'),\n",
       " ('B', 'D'),\n",
       " ('B', 'E'),\n",
       " ('C', 'C'),\n",
       " ('C', 'D'),\n",
       " ('C', 'E'),\n",
       " ('D', 'D'),\n",
       " ('D', 'E'),\n",
       " ('E', 'E')]"
      ]
     },
     "execution_count": 10,
     "metadata": {},
     "output_type": "execute_result"
    }
   ],
   "source": [
    "pairs2 = [(items[a], items[b]) \n",
    "          for a in range(len(items)) \n",
    "          for b in range(a, len(items))] # Order of for loops must be correct\n",
    "\n",
    "pairs2"
   ]
  },
  {
   "cell_type": "markdown",
   "metadata": {},
   "source": [
    "General comprehension syntax:\n",
    "\n",
    "```\n",
    "[ expression for value in iterable if condition ]\n",
    "\n",
    "[ k k for k in range(1, n+1) ]     # list comprehension\n",
    "{ k k for k in range(1, n+1) }     # set comprehension\n",
    "( k k for k in range(1, n+1) )     # generator comprehension\n",
    "{ k : k k for k in range(1, n+1) } # dictionary comprehension\n",
    "```\n",
    "\n",
    "The generator syntax is particularly attractive when results do not need to be stored in memory.\n"
   ]
  },
  {
   "cell_type": "code",
   "execution_count": null,
   "metadata": {
    "collapsed": true
   },
   "outputs": [],
   "source": []
  },
  {
   "cell_type": "code",
   "execution_count": null,
   "metadata": {
    "collapsed": true
   },
   "outputs": [],
   "source": []
  },
  {
   "cell_type": "markdown",
   "metadata": {},
   "source": [
    "### Enumerate\n",
    "\n",
    "This built-in function provides a convenient way to get an index when a sequence is used in a loop."
   ]
  },
  {
   "cell_type": "code",
   "execution_count": 1,
   "metadata": {},
   "outputs": [
    {
     "name": "stdout",
     "output_type": "stream",
     "text": [
      "0 one\n",
      "1 two\n",
      "2 three\n",
      "3 four\n"
     ]
    }
   ],
   "source": [
    "for  i, elem in enumerate(['one', 'two', 'three', 'four']):\n",
    "    print(i, elem)"
   ]
  },
  {
   "cell_type": "code",
   "execution_count": 15,
   "metadata": {},
   "outputs": [
    {
     "name": "stdout",
     "output_type": "stream",
     "text": [
      "[(3, 4, 5), (6, 8, 10)]\n"
     ]
    }
   ],
   "source": [
    "from math import sqrt\n",
    "\n",
    "# Pythagorean Triples\n",
    "#\n",
    "mx = 10\n",
    "legs = [(a, b, sqrt(a**2 + b**2)) \n",
    "        for a in range(1, mx)\n",
    "        for b in range(a, mx)]\n",
    "\n",
    "# filter out triples where the c \"hypotenuse\" isn't an integer\n",
    "legs = list(filter(lambda t: t[2].is_integer(), legs))\n",
    "\n",
    "# use list comprehension to combine filter/map in one clean list\n",
    "legs = [(a, b, int(c)) for a, b, c in legs if c.is_integer()]\n",
    "\n",
    "print(legs)"
   ]
  },
  {
   "cell_type": "markdown",
   "metadata": {},
   "source": [
    "##Dictionary and Set Comprehensions \n",
    "\n",
    "Work exactly like the list ones, only there is a little difference in the syntax."
   ]
  },
  {
   "cell_type": "code",
   "execution_count": 17,
   "metadata": {
    "collapsed": true,
    "scrolled": true
   },
   "outputs": [],
   "source": [
    "# lettermap = {c: k for k, c in enumerate(ascii_lowercase, 1)}"
   ]
  },
  {
   "cell_type": "code",
   "execution_count": 19,
   "metadata": {},
   "outputs": [
    {
     "name": "stdout",
     "output_type": "stream",
     "text": [
      "{'H': 'h', 'e': 'E', 'l': 'L', 'o': 'O'}\n"
     ]
    }
   ],
   "source": [
    "# Dicts do not allows duplicates in the keys\n",
    "# it simply re-assigns the last value assigned\n",
    "#\n",
    "word = 'Hello'\n",
    "swaps = {c: c.swapcase() for c in word}\n",
    "print(swaps)"
   ]
  },
  {
   "cell_type": "code",
   "execution_count": 20,
   "metadata": {},
   "outputs": [
    {
     "name": "stdout",
     "output_type": "stream",
     "text": [
      "{'l', 'e', 'H', 'o'}\n",
      "{'l', 'e', 'H', 'o'}\n",
      "True\n"
     ]
    }
   ],
   "source": [
    "# Sets also do not allow duplicates\n",
    "ls1 = set(c for c in word)\n",
    "ls2 = {c for c in word}\n",
    "print(ls1)\n",
    "print(ls2)\n",
    "print(ls1 == ls2)"
   ]
  },
  {
   "cell_type": "markdown",
   "metadata": {},
   "source": [
    "### Generators\n",
    "\n",
    "Generator functions yield instead of returning results\n",
    "\n",
    "* suspend and resume their state between calls. \n",
    "* automatically turned into their own iterators, yield one, suspend/resume, yield another...\n",
    "* allow you to get/use computations one at a time, instead of waiting for every computation to complete before providing results. \n",
    "* sometimes the amount of data you have to iterate over is so huge that you cannot keep it all in memory in a list. \n",
    "* In this case, generators are invaluable: they make possible what wouldn't be possible otherwise.\n",
    "\n",
    "* Generator Expressions are similar to list comprehensions, but instead of returning a list, they return an object that produces results one by one\n"
   ]
  },
  {
   "cell_type": "code",
   "execution_count": 21,
   "metadata": {},
   "outputs": [
    {
     "name": "stdout",
     "output_type": "stream",
     "text": [
      "[0, 1, 4, 9, 16, 25, 36, 49, 64, 81]\n"
     ]
    }
   ],
   "source": [
    "# normal function\n",
    "def get_squares(n):\n",
    "    return [x**2 for x in range(n)]\n",
    "\n",
    "print(get_squares(10))"
   ]
  },
  {
   "cell_type": "code",
   "execution_count": 22,
   "metadata": {},
   "outputs": [
    {
     "name": "stdout",
     "output_type": "stream",
     "text": [
      "<generator object get_squares_gen at 0x000001D86513A728>\n"
     ]
    }
   ],
   "source": [
    "# generator function\n",
    "def get_squares_gen(n):\n",
    "    for x in range(n):\n",
    "        yield x**2\n",
    "        \n",
    "print(get_squares_gen(10))"
   ]
  },
  {
   "cell_type": "code",
   "execution_count": 27,
   "metadata": {},
   "outputs": [
    {
     "name": "stdout",
     "output_type": "stream",
     "text": [
      "0\n",
      "1\n",
      "4\n",
      "9\n"
     ]
    },
    {
     "ename": "StopIteration",
     "evalue": "",
     "output_type": "error",
     "traceback": [
      "\u001b[1;31m---------------------------------------------------------------------------\u001b[0m",
      "\u001b[1;31mStopIteration\u001b[0m                             Traceback (most recent call last)",
      "\u001b[1;32m<ipython-input-27-d9f0bd0cd9c8>\u001b[0m in \u001b[0;36m<module>\u001b[1;34m()\u001b[0m\n\u001b[0;32m      4\u001b[0m \u001b[0mprint\u001b[0m\u001b[1;33m(\u001b[0m\u001b[0mnext\u001b[0m\u001b[1;33m(\u001b[0m\u001b[0msquares\u001b[0m\u001b[1;33m)\u001b[0m\u001b[1;33m)\u001b[0m\u001b[1;33m\u001b[0m\u001b[0m\n\u001b[0;32m      5\u001b[0m \u001b[0mprint\u001b[0m\u001b[1;33m(\u001b[0m\u001b[0mnext\u001b[0m\u001b[1;33m(\u001b[0m\u001b[0msquares\u001b[0m\u001b[1;33m)\u001b[0m\u001b[1;33m)\u001b[0m\u001b[1;33m\u001b[0m\u001b[0m\n\u001b[1;32m----> 6\u001b[1;33m \u001b[0mprint\u001b[0m\u001b[1;33m(\u001b[0m\u001b[0mnext\u001b[0m\u001b[1;33m(\u001b[0m\u001b[0msquares\u001b[0m\u001b[1;33m)\u001b[0m\u001b[1;33m)\u001b[0m\u001b[1;33m\u001b[0m\u001b[0m\n\u001b[0m\u001b[0;32m      7\u001b[0m \u001b[0mprint\u001b[0m\u001b[1;33m(\u001b[0m\u001b[0mnext\u001b[0m\u001b[1;33m(\u001b[0m\u001b[0msquares\u001b[0m\u001b[1;33m)\u001b[0m\u001b[1;33m)\u001b[0m\u001b[1;33m\u001b[0m\u001b[0m\n",
      "\u001b[1;31mStopIteration\u001b[0m: "
     ]
    }
   ],
   "source": [
    "squares = get_squares_gen(4)\n",
    "print(next(squares)) # same as squares.__next__()\n",
    "print(next(squares))\n",
    "print(next(squares))\n",
    "print(next(squares))\n",
    "print(next(squares))\n",
    "# StopIteration -- generator exhausted. \n",
    "# This is what a for loop receives when loop iteration over\n",
    "print(next(squares))"
   ]
  },
  {
   "cell_type": "code",
   "execution_count": 4,
   "metadata": {},
   "outputs": [
    {
     "name": "stdout",
     "output_type": "stream",
     "text": [
      "2\n",
      "10\n",
      "50\n",
      "250\n",
      "1250\n",
      "6250\n",
      "31250\n"
     ]
    }
   ],
   "source": [
    "# LEARNING_PYTHON -- see p.151\n",
    "#\n",
    "# MORE Material Needed Here to Explain\n",
    "# CREATING your Own ITERATOR\n",
    "#\n",
    "\n",
    "# What happens when you call next(generator) is that \n",
    "# you're calling the generator.__next__() method on the object\n",
    "\n",
    "# and its purpose is to return the next element of the\n",
    "# iteration, or to raise StopIteration when the iteration \n",
    "# is over and there are no more elements to return.\n",
    "\n",
    "def geomProg(a, q):\n",
    "    k = 0\n",
    "    while True:\n",
    "        result = a * q**k   # geometric progression/series\n",
    "        if result <= 100000:\n",
    "            yield result\n",
    "        else:\n",
    "            return\n",
    "        k += 1\n",
    "        \n",
    "for n in geomProg(2, 5):\n",
    "    print(n)\n",
    "\n",
    "    # should print 2,10,50,250,1250,6250,31250\n",
    "    # then next term would have been 156250 which is too long"
   ]
  },
  {
   "cell_type": "markdown",
   "metadata": {
    "collapsed": true
   },
   "source": [
    "### Generator Expressions\n",
    "\n",
    "Use () braces instead of [] like list comprehensions, and behave the same\n",
    "expect they allow for only ONE iteration, then theyll be exhausted.\n",
    "\n",
    "* Can use reproduce .map .filter using generator expressions.\n",
    "\n",
    "* NOTE: map calls can be twice as fast as equivalent for loops, and list comprehensions can be (always generally speaking) even faster than equivalent map calls."
   ]
  },
  {
   "cell_type": "code",
   "execution_count": 6,
   "metadata": {},
   "outputs": [
    {
     "data": {
      "text/plain": [
       "[0, 1, 8, 27, 64, 125, 216, 343, 512, 729]"
      ]
     },
     "execution_count": 6,
     "metadata": {},
     "output_type": "execute_result"
    }
   ],
   "source": [
    "cubes = [k**3 for k in range(10)]\n",
    "cubes"
   ]
  },
  {
   "cell_type": "code",
   "execution_count": 11,
   "metadata": {},
   "outputs": [
    {
     "data": {
      "text/plain": [
       "<generator object <genexpr> at 0x00000198F926C728>"
      ]
     },
     "execution_count": 11,
     "metadata": {},
     "output_type": "execute_result"
    }
   ],
   "source": [
    "cubes_gen = (k**3 for k in range(10))\n",
    "cubes_gen"
   ]
  },
  {
   "cell_type": "code",
   "execution_count": 12,
   "metadata": {},
   "outputs": [
    {
     "data": {
      "text/plain": [
       "[0, 1, 8, 27, 64, 125, 216, 343, 512, 729]"
      ]
     },
     "execution_count": 12,
     "metadata": {},
     "output_type": "execute_result"
    }
   ],
   "source": [
    "list(cubes_gen) # same as manually calling next in a for loop"
   ]
  },
  {
   "cell_type": "code",
   "execution_count": 13,
   "metadata": {},
   "outputs": [
    {
     "data": {
      "text/plain": [
       "[]"
      ]
     },
     "execution_count": 13,
     "metadata": {},
     "output_type": "execute_result"
    }
   ],
   "source": [
    "list(cubes_gen) # nothing more to give"
   ]
  },
  {
   "cell_type": "markdown",
   "metadata": {},
   "source": [
    "Generator Expressions can reproduce .map and .filter functions but with \n",
    "better readability\n"
   ]
  },
  {
   "cell_type": "code",
   "execution_count": 29,
   "metadata": {},
   "outputs": [
    {
     "name": "stdout",
     "output_type": "stream",
     "text": [
      "[(0, 0), (3, 27), (5, 125), (6, 216), (9, 729), (10, 1000), (12, 1728), (15, 3375), (18, 5832)]\n",
      "[(0, 0), (3, 27), (5, 125), (6, 216), (9, 729), (10, 1000), (12, 1728), (15, 3375), (18, 5832)]\n"
     ]
    }
   ],
   "source": [
    "N = 20\n",
    "\n",
    "cubes = [x**3 for x in range(10)]\n",
    "\n",
    "odd_cubes1 = filter(lambda cube: cube % 2, cubes)\n",
    "cubes1 = map(\n",
    "    lambda n: (n, n**3),\n",
    "    filter(lambda n: n % 3 == 0 or n % 5 == 0, range(N)))\n",
    "\n",
    "odd_cubes1 # map/filter style\n",
    "cubes1 # map/filter style\n",
    "\n",
    "odd_cubes2 = (cube for cube in cubes if cube % 2)\n",
    "cubes2 = ((n, n**3) for n in range(N) if n % 3 == 0 or n % 5 == 0)\n",
    "    \n",
    "odd_cubes2 # Generator Expression\n",
    "cubes2 # Generator Expression\n",
    "\n",
    "# Return is 2-tuples (n, n^3)\n",
    "print(list(cubes1))\n",
    "print(list(cubes2))"
   ]
  },
  {
   "cell_type": "markdown",
   "metadata": {},
   "source": [
    "* Here is where efficiency is important. s1 and s3 are going to produce the exact same sum. Inside s1 there is a list comprehension. In order to calculate s1, the sum function has to call .next on a list, a million times! BEFORE the list needs to have been created -- waste of time and memory.\n",
    "\n",
    "* It is much better for .sum to call .next on a simple generator expressions. There is no need to have all the numbers from range(10^6) stored in a list"
   ]
  },
  {
   "cell_type": "code",
   "execution_count": 33,
   "metadata": {},
   "outputs": [
    {
     "name": "stdout",
     "output_type": "stream",
     "text": [
      "333332833333500000\n",
      "333332833333500000\n"
     ]
    }
   ],
   "source": [
    "# Much slower and more memory\n",
    "s1 = sum([n**2 for n in range(10**6)])\n",
    "print(s1)\n",
    "\n",
    "# A faster/direct way of summing from a generator expression!\n",
    "s3 = sum(n**2 for n in range(10**6))\n",
    "print(s3)"
   ]
  },
  {
   "cell_type": "code",
   "execution_count": 34,
   "metadata": {},
   "outputs": [
    {
     "name": "stdout",
     "output_type": "stream",
     "text": [
      "for loop: 7.9241 s\n",
      "list comprehension: 4.5837 s\n",
      "generator expression: 5.8249 s\n",
      "True 15122250\n"
     ]
    }
   ],
   "source": [
    "from time import time\n",
    "\n",
    "mx = 5500 # this is the max I could reach with my computer...\n",
    "\n",
    "t = time() # start time for the for loop\n",
    "dmloop = []\n",
    "for a in range(1, mx):\n",
    "    for b in range(a, mx):\n",
    "        dmloop.append(divmod(a, b))\n",
    "print('for loop: {:.4f} s'.format(time() - t)) # elapsed time\n",
    "\n",
    "t = time() # start time for the list comprehension\n",
    "dmlist = [\n",
    "    divmod(a, b) for a in range(1, mx) for b in range(a, mx)]\n",
    "print('list comprehension: {:.4f} s'.format(time() - t))\n",
    "\n",
    "t = time() # start time for the generator expression\n",
    "dmgen = list(\n",
    "    divmod(a, b) for a in range(1, mx) for b in range(a, mx))\n",
    "print('generator expression: {:.4f} s'.format(time() - t))\n",
    "\n",
    "# verify correctness of results and number of items in each list\n",
    "print(dmloop == dmlist == dmgen, len(dmloop))"
   ]
  },
  {
   "cell_type": "code",
   "execution_count": 37,
   "metadata": {},
   "outputs": [
    {
     "name": "stdout",
     "output_type": "stream",
     "text": [
      "for loop: 0.9206 s\n",
      "list comprehension: 0.5396 s\n",
      "map: 0.1715 s\n",
      "True\n"
     ]
    }
   ],
   "source": [
    "from time import time\n",
    "\n",
    "mx = 2 * 10 ** 6\n",
    "\n",
    "t = time()\n",
    "absloop = []\n",
    "for n in range(mx):\n",
    "    absloop.append(abs(n))\n",
    "print('for loop: {:.4f} s'.format(time() - t))\n",
    "\n",
    "t = time()\n",
    "abslist = [abs(n) for n in range(mx)]\n",
    "print('list comprehension: {:.4f} s'.format(time() - t))\n",
    "\n",
    "t = time()\n",
    "absmap = list(map(abs, range(mx)))\n",
    "\n",
    "print('map: {:.4f} s'.format(time() - t))\n",
    "print(absloop == abslist == absmap)"
   ]
  },
  {
   "cell_type": "markdown",
   "metadata": {},
   "source": [
    "__Name Localization__: Python 3 localizes loop variables in all four forms of comprehensions: \n",
    "list, dict, set, and generator expressions. This behavior is therefore different from that\n",
    "of the for loop."
   ]
  },
  {
   "cell_type": "code",
   "execution_count": 30,
   "metadata": {},
   "outputs": [
    {
     "name": "stdout",
     "output_type": "stream",
     "text": [
      "100\n",
      "100\n",
      "100\n",
      "100\n",
      "4\n"
     ]
    }
   ],
   "source": [
    "# None of these alter the global name A\n",
    "A = 100\n",
    "ex1 = [A for A in range(5)]\n",
    "print(A) # prints: 100\n",
    "\n",
    "ex2 = list(A for A in range(5))\n",
    "print(A) # prints: 100\n",
    "\n",
    "ex3 = dict((A, 2 * A) for A in range(5))\n",
    "print(A) # prints: 100\n",
    "\n",
    "ex4 = set(A for A in range(5))\n",
    "print(A) # prints: 100\n",
    "\n",
    "# The for loop does modify it!\n",
    "nloc = 0\n",
    "for A in range(5):\n",
    "    nloc += A\n",
    "print(A)"
   ]
  },
  {
   "cell_type": "code",
   "execution_count": null,
   "metadata": {
    "collapsed": true
   },
   "outputs": [],
   "source": []
  },
  {
   "cell_type": "code",
   "execution_count": 4,
   "metadata": {
    "collapsed": true
   },
   "outputs": [],
   "source": [
    "def gcd(a, b):\n",
    "    \"\"\"Calculate the Greatest Common Divisor of (a, b). \"\"\"\n",
    "    while b != 0:\n",
    "        a, b = b, a % b\n",
    "    return a"
   ]
  },
  {
   "cell_type": "code",
   "execution_count": 8,
   "metadata": {},
   "outputs": [
    {
     "name": "stdout",
     "output_type": "stream",
     "text": [
      "[(3, 4, 5), (5, 12, 13), (15, 8, 17), (7, 24, 25), (21, 20, 29), (35, 12, 37), (9, 40, 41)]\n"
     ]
    }
   ],
   "source": [
    "#\n",
    "# Cool.  But not straightforward to read\n",
    "#\n",
    "N = 50\n",
    "triples = sorted(\n",
    "    ((a, b, c) for a, b, c in (\n",
    "        ((m**2 - n**2), (2 * m * n), (m**2 + n**2))\n",
    "        for m in range(1, int(N**.5) + 1)\n",
    "        for n in range(1, m)\n",
    "        if (m - n) % 2 and gcd(m, n) == 1\n",
    "    ) if c <= N), key=lambda *triple: sum(*triple)\n",
    ")\n",
    "\n",
    "print(triples)"
   ]
  },
  {
   "cell_type": "code",
   "execution_count": 7,
   "metadata": {},
   "outputs": [
    {
     "name": "stdout",
     "output_type": "stream",
     "text": [
      "[(3, 4, 5), (5, 12, 13), (15, 8, 17), (7, 24, 25), (21, 20, 29), (35, 12, 37), (9, 40, 41)]\n"
     ]
    }
   ],
   "source": [
    "#\n",
    "# Easier to read and understand\n",
    "#\n",
    "def gen_triples(N):\n",
    "    for m in range(1, int(N**.5) + 1):\n",
    "        for n in range(1, m):\n",
    "            if (m - n) % 2 and gcd(m, n) == 1:\n",
    "                c = m**2 + n**2\n",
    "                if c <= N:\n",
    "                    a = m**2 - n**2\n",
    "                    b = 2 * m * n\n",
    "                    yield (a, b, c)\n",
    "                    \n",
    "triples = sorted(gen_triples(50), key=lambda *triple: sum(*triple))\n",
    "print(triples)"
   ]
  },
  {
   "cell_type": "markdown",
   "metadata": {
    "collapsed": true
   },
   "source": [
    "## Example Problem\n",
    "\n",
    "Submitted to candidates for a Python developer role.\n",
    "\n",
    "The problem is the following: given the sequence 0 1 1 2 3 5 8 13 21 ... write a function \n",
    "that would return the terms of this sequence up to some limit N.\n"
   ]
  },
  {
   "cell_type": "code",
   "execution_count": 22,
   "metadata": {},
   "outputs": [
    {
     "name": "stdout",
     "output_type": "stream",
     "text": [
      "[0]\n",
      "[0, 1, 1]\n",
      "[0, 1, 1, 2, 3, 5, 8, 13, 21, 34]\n"
     ]
    }
   ],
   "source": [
    "# Brute rough draft of function\n",
    "#\n",
    "def fibonacci(N):\n",
    "    \"\"\"Return all fibonacci numbers up to N. \"\"\"\n",
    "    \n",
    "    result = [0]\n",
    "    next_n = 1\n",
    "    \n",
    "    while next_n <= N:\n",
    "        result.append(next_n)\n",
    "        next_n = sum(result[-2:])\n",
    "\n",
    "    return result\n",
    "\n",
    "print(fibonacci(0))\n",
    "print(fibonacci(1))\n",
    "print(fibonacci(50))"
   ]
  },
  {
   "cell_type": "code",
   "execution_count": 26,
   "metadata": {},
   "outputs": [
    {
     "name": "stdout",
     "output_type": "stream",
     "text": [
      "[0]\n",
      "[0, 1, 1]\n",
      "[0, 1, 1, 2, 3, 5, 8, 13, 21, 34]\n"
     ]
    }
   ],
   "source": [
    "# Better as a generator function\n",
    "#\n",
    "def fib(N):\n",
    "    \"\"\"Return all fibonacci numbers up to N. \"\"\"\n",
    "    a, b = 0, 1\n",
    "    while a <= N:\n",
    "        yield a\n",
    "    a, b = b, a + b\n",
    "    \n",
    "# generator functions need to be iterated over to get results (hence the list())\n",
    "print(list(fibonacci(0)))\n",
    "print(list(fibonacci(1)))\n",
    "print(list(fibonacci(50)))"
   ]
  },
  {
   "cell_type": "markdown",
   "metadata": {},
   "source": [
    "##### Discussion\n",
    "\n",
    "Now, the fibonacci function is a generator function. First we yield 0, then if N is 0 we return (this will cause a StopIteration exception to be raised). If that's not the case, we start iterating, yielding b at every loop cycle, and then updating a and b. All we need in order to be able to produce the next element of the sequence is the past two: a and b, respectively."
   ]
  },
  {
   "cell_type": "markdown",
   "metadata": {
    "collapsed": true
   },
   "source": [
    "## Iterators\n",
    "\n",
    "Iterator: object that manages iteration by a series of values. next(i) produces an element from the underlying series\n",
    "\n",
    "Iterable: an object that produces and iterator. iter(obj)\n",
    "\n",
    "Same object, you can create multiple iterators each with their own state but can have data changed underneath them.\n",
    "\n",
    "Some functions/classes can produce iterable series of values. A lazy evaluation technique (no memory set aside or storing all those items):\n",
    "\n",
    "```\n",
    "for j in range(10000000):\n",
    "```"
   ]
  },
  {
   "cell_type": "markdown",
   "metadata": {},
   "source": [
    "## Functions\n",
    "\n",
    "* Python’s mechanism for passing information to and from a function is that objects are not copied.\n",
    "* The communication of a return value from the function back to the caller is similarly implemented as an assignment."
   ]
  },
  {
   "cell_type": "code",
   "execution_count": null,
   "metadata": {
    "collapsed": true
   },
   "outputs": [],
   "source": [
    "# Computation with default grading system used via the points if another isn't provided\n",
    "def compute_gpa(grades, points={ A+ :4.0, A :4.0, A- :3.67, B+ :3.33, B :3.0, B- :2.67, C+ :2.33, C :2.0, C :1.67, D+ :1.33, D :1.0, F :0.0}):\n",
    "    num courses = 0\n",
    "    total points = 0\n",
    "    for g in grades:\n",
    "        if g in points: # a recognizable grade\n",
    "            num courses += 1\n",
    "            total points += points[g]\n",
    "    return total points / num courses\n",
    "\n",
    "\n"
   ]
  },
  {
   "cell_type": "markdown",
   "metadata": {},
   "source": [
    "#### Keyword Arguments\n",
    "\n",
    "The traditional mechanism for matching the actual parameters sent by a caller, to the formal parameters declared by the function signature is based on the concept of positional arguments.\n",
    "\n",
    "In the example below the function is polymorphic in the number of arguments, allowing a call such as max(a,b,c,d); therefore, it is not possible to designate a key function as a traditional positional element. \n",
    "\n",
    "Sorting functions in Python also support a similar key parameter for indicating a nonstandard order.\n"
   ]
  },
  {
   "cell_type": "code",
   "execution_count": null,
   "metadata": {
    "collapsed": true
   },
   "outputs": [],
   "source": [
    "# Example\n",
    "# In order to vary the notion of \"maximum\" that is used.\n",
    "m = max(a, b, key=abs) # built-in abs func itself sent as value assoc with keyword param 'key'\n"
   ]
  },
  {
   "cell_type": "markdown",
   "metadata": {
    "collapsed": true
   },
   "source": [
    "## Simple I/O"
   ]
  },
  {
   "cell_type": "code",
   "execution_count": 3,
   "metadata": {},
   "outputs": [
    {
     "name": "stdout",
     "output_type": "stream",
     "text": [
      "1 2 3 4\n",
      "1:2:3:4\n"
     ]
    }
   ],
   "source": [
    "# OUTPUT\n",
    "\n",
    "# Comma seperated arbitrary no. arguments\n",
    "# will print arg with spaces between and a \\n added at the end\n",
    "print(1,2,3,4)\n",
    "# seperator, end-of-line, output\n",
    "print(1,2,3,4, sep=':')\n",
    "# rint(1,2,3,4, end=':')\n",
    "# print(1,2,3,4, file='test.csv')# output filestream (to change from default console) "
   ]
  },
  {
   "cell_type": "code",
   "execution_count": 7,
   "metadata": {},
   "outputs": [
    {
     "name": "stdout",
     "output_type": "stream",
     "text": [
      "Enter your age in years: 4\n",
      "4\n"
     ]
    }
   ],
   "source": [
    "# INPUT\n",
    "\n",
    "age = int(input('Enter your age in years: '))\n",
    "print(age)\n",
    "\n",
    "# When processing a file, the proxy maintains a current position within the file\n",
    "#     as an offset from the beginning, measured in num of bytes.\n",
    "\n",
    "#fp.read() # return the remaining contents of a readable file as a string\n",
    "#fp.readline() # remain current line as string\n",
    "#fp.readlines() # all remaining lines\n",
    "#for line in fp: # iterate all remain lines of a file\n",
    "#fp.seek(k) # change pos oto be at the kth byte of a file\n",
    "#fp.tell() # return curr pos measured as byte-offset from the start\n",
    "#fp.write(string) # write at curr po of the writable file\n",
    "#fp.writelines(seq) each strings of sequqnce at the curr pos\n",
    "\n",
    "\n"
   ]
  },
  {
   "cell_type": "markdown",
   "metadata": {
    "collapsed": true
   },
   "source": [
    "#### Example Data Manipulation"
   ]
  },
  {
   "cell_type": "code",
   "execution_count": 9,
   "metadata": {},
   "outputs": [
    {
     "name": "stdout",
     "output_type": "stream",
     "text": [
      "['1', '5', '88', '1203', '12675']\n",
      "1, 12675, 5, 1203, 88\n"
     ]
    }
   ],
   "source": [
    "import re\n",
    "\n",
    "st = \"1,5,88,1203,12675\"\n",
    "stc = re.split(r'[,]+', st)\n",
    "print(stc)\n",
    "\n",
    "# Convert elements to integers\n",
    "# Lamda functions in Python use: lambda x: x + 10\n",
    "stc_ints = sorted(map(lambda x: int(x), stc))\n",
    "set_integers = set(stc_ints) \n",
    "result = ', '.join(str(s) for s in set_integers)\n",
    "print(result)"
   ]
  },
  {
   "cell_type": "code",
   "execution_count": null,
   "metadata": {
    "collapsed": true
   },
   "outputs": [],
   "source": []
  }
 ],
 "metadata": {
  "kernelspec": {
   "display_name": "Python 3",
   "language": "python",
   "name": "python3"
  },
  "language_info": {
   "codemirror_mode": {
    "name": "ipython",
    "version": 3
   },
   "file_extension": ".py",
   "mimetype": "text/x-python",
   "name": "python",
   "nbconvert_exporter": "python",
   "pygments_lexer": "ipython3",
   "version": "3.6.1"
  }
 },
 "nbformat": 4,
 "nbformat_minor": 2
}
