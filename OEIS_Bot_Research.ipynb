{
 "cells": [
  {
   "cell_type": "code",
   "execution_count": 15,
   "metadata": {},
   "outputs": [
    {
     "name": "stdout",
     "output_type": "stream",
     "text": [
      "Enter comma seperated integer sequence (10 ints max): \n",
      "1, 3, 4, 7, 11, 18, 29, 47, 76, 123, 199\n",
      "Request:\n",
      "http://oeis.org/search?q=1%2C++3%2C++4%2C++7%2C++11%2C++18%2C++29%2C++47%2C++76%2C++123&language=english&go=Search\n",
      "\n",
      "Sequence Id:  A000032\n",
      "Sequence Link <a href=\"/A000204\" title=\"Lucas numbers (beginning with 1): L(n) = L(n-1) + L(n-2) with L(1) = 1, L(2) = 3.\">A000204</a>\n",
      "Short Description:  Lucas numbers (beginning at 2): L(n) = L(n-1) + L(n-2). (Cf. A000204.) (Formerly M0155)\n"
     ]
    }
   ],
   "source": [
    "from urllib.request import urlopen as uReq\n",
    "from bs4 import BeautifulSoup as BS\n",
    "import re\n",
    "import urllib\n",
    "import requests\n",
    "\n",
    "# OEIS.org - Online Encylopedia of Integer Sequences\n",
    "#\n",
    "# Get sequence to query\n",
    "input_seq = input('Enter comma seperated integer sequence (10 ints max): \\n')\n",
    "seqSplit = re.split(r'[,]+', input_seq)\n",
    "seq = seqSplit[:10]\n",
    "\n",
    "# Build out the HTTP GET request\n",
    "str_int_sequence = ', '.join(str(s) for s in seq)\n",
    "params = {\n",
    "   'q': str_int_sequence,\n",
    "   'language': 'english',\n",
    "   'go': 'Search'\n",
    "}\n",
    "\n",
    "# The URL for the request\n",
    "oeis_search_url = \"http://oeis.org/search?%s\" % (urllib.parse.urlencode(params))\n",
    "print('Request:')\n",
    "print(oeis_search_url)\n",
    "\"\"\"\n",
    "    -Need to parse out the found sequence link\n",
    "    \n",
    "    -When no entry for an integer sequence the following exception thrown\n",
    "    \n",
    "    ---------------------------------------------------------------------------\n",
    "    AttributeError                            Traceback (most recent call last)\n",
    "    <ipython-input-51-726329f6399c> in <module>()\n",
    "         66 \n",
    "         67     n += 1\n",
    "    ---> 68 print('\\nSequence Id: ', seqId.text.strip())\n",
    "         69 print('Sequence Link', seqLink)\n",
    "         70 print('Short Description: ', seqDescription)\n",
    "\n",
    "    AttributeError: 'NoneType' object has no attribute 'text'\n",
    "\n",
    "\"\"\"\n",
    "# http request the entry for an integer sequence that was found\n",
    "entry_url = oeis_search_url \n",
    "entry_req = uReq(entry_url) # open conn\n",
    "pageHtml = entry_req.read() # grab page\n",
    "entry_req.close() # close conn to be nice\n",
    "\n",
    "# Parse the html\n",
    "soup = BS(pageHtml, \"html5lib\")\n",
    "# Alternate parser\n",
    "#page_soup = soup(page_html, \"html.parser\")\n",
    "\n",
    "# find the distinguishing tags and data for the sequence\n",
    "seqId = soup.find('td', {'width': 100, 'valign': 'top', 'align': 'left'})\n",
    "tdTags = soup.find_all('td', {'valign': 'top', 'align': 'left'})\n",
    "seqDescription = ''\n",
    "seqLink = ''\n",
    "\n",
    "n = 0\n",
    "for td in tdTags:\n",
    "    if n == 1:\n",
    "        seqLink = td.a\n",
    "        rawText = td.text.strip()\n",
    "        seqDescription = \" \".join(rawText.split())\n",
    "\n",
    "    n += 1\n",
    "    \n",
    "print('\\nSequence Id: ', seqId.text.strip())\n",
    "print('Sequence Link', seqLink)\n",
    "print('Short Description: ', seqDescription)"
   ]
  },
  {
   "cell_type": "code",
   "execution_count": null,
   "metadata": {
    "collapsed": true
   },
   "outputs": [],
   "source": []
  }
 ],
 "metadata": {
  "kernelspec": {
   "display_name": "Python 3",
   "language": "python",
   "name": "python3"
  },
  "language_info": {
   "codemirror_mode": {
    "name": "ipython",
    "version": 3
   },
   "file_extension": ".py",
   "mimetype": "text/x-python",
   "name": "python",
   "nbconvert_exporter": "python",
   "pygments_lexer": "ipython3",
   "version": "3.6.1"
  }
 },
 "nbformat": 4,
 "nbformat_minor": 2
}
