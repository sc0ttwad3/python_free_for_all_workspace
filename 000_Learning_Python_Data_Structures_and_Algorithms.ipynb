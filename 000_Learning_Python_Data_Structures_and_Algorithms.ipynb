{
 "cells": [
  {
   "cell_type": "markdown",
   "metadata": {},
   "source": [
    "# Data Structures and Algorithms in Python\n",
    "\n",
    "Goodrich, Tamassia, Goldwasser Book"
   ]
  },
  {
   "cell_type": "markdown",
   "metadata": {},
   "source": [
    "## Analysis of Algorithms\n",
    "\n",
    "Big-O: notation provides asymptotic maximum where algo function is less than or equal\n",
    "Big-Omega: asymptotic minimum where algo function is greater than or equal\n",
    "Big-Theta: two functions grow at same rate, upt to constant factors\n",
    "\n",
    "Growth Rates (lower/better to higher/worse)\n",
    "\n",
    "* log n\n",
    "* n\n",
    "* n log n\n",
    "* n^2\n",
    "* n^3\n",
    "* 2^n"
   ]
  },
  {
   "cell_type": "code",
   "execution_count": null,
   "metadata": {
    "collapsed": true
   },
   "outputs": [],
   "source": []
  },
  {
   "cell_type": "code",
   "execution_count": null,
   "metadata": {
    "collapsed": true
   },
   "outputs": [],
   "source": []
  },
  {
   "cell_type": "code",
   "execution_count": null,
   "metadata": {
    "collapsed": true
   },
   "outputs": [],
   "source": []
  },
  {
   "cell_type": "markdown",
   "metadata": {},
   "source": [
    "## Linked Lists\n",
    "\n",
    "Chaper 7\n",
    "\n",
    "Linked lists keep elements in a certain order, but relies on a more distributed representation in which a lightweight object, a node, is allocated for each element.\n",
    "\n",
    "Each node maintains a reference to its element and one or more references to neighboring nodes in order to collectively represent the linear order of the sequence.\n",
    "\n",
    "* Avoid the disadvantages for array-based sequences\n",
    "* Inefficient access by a numeric index\n",
    "* Unable to know by examining a node, its place in the sequence\n",
    "\n",
    "For the sake of simplicity, a compact illustration of a linked list with elements embedded in the nodes (rather than more accurately drawn as references to external objects), is often used."
   ]
  },
  {
   "cell_type": "markdown",
   "metadata": {
    "collapsed": true
   },
   "source": [
    "### Singly Linked List\n",
    "\n",
    "Collection of nodes that form a linear sequence. Each node stores:\n",
    "\n",
    "* a reference to an object that is an element of the sequence\n",
    "* a reference to the next node of the sequence\n",
    "* each node stored as a unique instance object\n",
    "\n",
    "* another object represents the LL as a whole\n",
    "* a reference to the HEAD of the list is absolute minimum \n",
    "* a reference to the TAIL is often a convenience\n",
    "* a count of the number of nodes (size) is common"
   ]
  },
  {
   "cell_type": "code",
   "execution_count": null,
   "metadata": {
    "collapsed": true
   },
   "outputs": [],
   "source": []
  },
  {
   "cell_type": "code",
   "execution_count": null,
   "metadata": {
    "collapsed": true
   },
   "outputs": [],
   "source": []
  }
 ],
 "metadata": {
  "kernelspec": {
   "display_name": "Python 3",
   "language": "python",
   "name": "python3"
  },
  "language_info": {
   "codemirror_mode": {
    "name": "ipython",
    "version": 3
   },
   "file_extension": ".py",
   "mimetype": "text/x-python",
   "name": "python",
   "nbconvert_exporter": "python",
   "pygments_lexer": "ipython3",
   "version": "3.6.1"
  }
 },
 "nbformat": 4,
 "nbformat_minor": 2
}
